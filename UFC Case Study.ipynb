{
 "cells": [
  {
   "cell_type": "markdown",
   "id": "a5e206e2-db8c-4db6-9e53-5759f73a20bb",
   "metadata": {},
   "source": [
    "# UFC Case Study Notebook"
   ]
  },
  {
   "cell_type": "markdown",
   "id": "5358a96f-bb8b-4ee7-acaf-666a5a54e5b9",
   "metadata": {},
   "source": [
    "## Importing libraries"
   ]
  },
  {
   "cell_type": "code",
   "execution_count": 1,
   "id": "ff09a25d-d48d-44f9-a3a5-0ecd2974472f",
   "metadata": {},
   "outputs": [],
   "source": [
    "#from collections import Counter\n",
    "from datetime import datetime\n",
    "import re\n",
    "import numpy as np\n",
    "import matplotlib.pyplot as plt\n",
    "import seaborn as sns\n",
    "import pandas as pd\n",
    "import kagglehub"
   ]
  },
  {
   "cell_type": "markdown",
   "id": "66be8510-f9d0-42f2-aeb5-30661fbb0979",
   "metadata": {},
   "source": [
    "## Util functions"
   ]
  },
  {
   "cell_type": "code",
   "execution_count": 2,
   "id": "dd2423e9-231f-4dea-9445-7d920a24c60b",
   "metadata": {},
   "outputs": [],
   "source": [
    "def human_readable_date(date):\n",
    "    # usage example d = human_readable_date(datetime.today())\n",
    "    if isinstance(date, str):\n",
    "        date = datetime.strptime(date, \"%Y-%m-%d\")  # ou \"%d/%m/%Y\" se for BR\n",
    "\n",
    "    day = date.day\n",
    "    year = date.year\n",
    "    month = date.strftime(\"%B\")\n",
    "\n",
    "    # Sufixos: st, nd, rd, th\n",
    "    if 11 <= day <= 13:\n",
    "        suffix = \"th\"\n",
    "    else:\n",
    "        last_digit = day % 10\n",
    "        suffix = {1: \"st\", 2: \"nd\", 3: \"rd\"}.get(last_digit, \"th\")\n",
    "\n",
    "    return f\"{month} {day}{suffix}, {year}\"\n",
    "\n",
    "def human_readable_duration(seconds: int) -> str:\n",
    "    if seconds < 0:\n",
    "        raise ValueError(\"Duration cannot be negative\")\n",
    "\n",
    "    minutes, sec = divmod(seconds, 60)\n",
    "    hours, minutes = divmod(minutes, 60)\n",
    "\n",
    "    parts = []\n",
    "    if hours:\n",
    "        parts.append(f\"{hours} hour\" + (\"s\" if hours != 1 else \"\"))\n",
    "    if minutes:\n",
    "        parts.append(f\"{minutes} minute\" + (\"s\" if minutes != 1 else \"\"))\n",
    "    if not parts:\n",
    "        parts.append(\"less than a minute\")\n",
    "\n",
    "    return \" and \".join(parts)"
   ]
  },
  {
   "cell_type": "markdown",
   "id": "69b6e20a-6c7f-4f27-a634-d993bc83e05b",
   "metadata": {},
   "source": [
    "## Raw data fetch"
   ]
  },
  {
   "cell_type": "code",
   "execution_count": 3,
   "id": "ef1a23a9-028b-4e64-8e9d-a9dc40458689",
   "metadata": {},
   "outputs": [
    {
     "name": "stdout",
     "output_type": "stream",
     "text": [
      "Warning: Looks like you're using an outdated `kagglehub` version, please consider updating (latest version: 0.3.12)\n",
      "Path to dataset files: /Users/joaogouveiaml/.cache/kagglehub/datasets/neelagiriaditya/ufc-datasets-1994-2025/versions/1\n"
     ]
    }
   ],
   "source": [
    "path = kagglehub.dataset_download(\"neelagiriaditya/ufc-datasets-1994-2025\")\n",
    "print(\"Path to dataset files:\", path)\n",
    "\n",
    "data_folder = \"/UFC DATASETS/\"\n",
    "\n",
    "raw_event_details = pd.read_csv(path + data_folder + \"event_details.csv\", parse_dates=[\"date\"])\n",
    "raw_figther_details = pd.read_csv(path + data_folder + \"fighter_details.csv\", parse_dates=[\"dob\"])\n",
    "raw_fight_details = pd.read_csv(path + data_folder + \"fight_details.csv\")\n",
    "raw_ufc_details = pd.read_csv(path + data_folder + \"UFC.csv\", parse_dates=[\"date\", \"r_dob\", \"b_dob\"])"
   ]
  },
  {
   "cell_type": "markdown",
   "id": "5d703fa1-9032-424e-ac88-f3b524b07316",
   "metadata": {},
   "source": [
    "## Data basic exploration"
   ]
  },
  {
   "cell_type": "markdown",
   "id": "39a7cb01-d3f4-412a-9b93-4c0f3a97e0c9",
   "metadata": {},
   "source": [
    "### Event details exploration"
   ]
  },
  {
   "cell_type": "code",
   "execution_count": 4,
   "id": "441f4bd6-3c35-41f9-bbb2-cebaed01dca3",
   "metadata": {},
   "outputs": [
    {
     "data": {
      "text/html": [
       "<div>\n",
       "<style scoped>\n",
       "    .dataframe tbody tr th:only-of-type {\n",
       "        vertical-align: middle;\n",
       "    }\n",
       "\n",
       "    .dataframe tbody tr th {\n",
       "        vertical-align: top;\n",
       "    }\n",
       "\n",
       "    .dataframe thead th {\n",
       "        text-align: right;\n",
       "    }\n",
       "</style>\n",
       "<table border=\"1\" class=\"dataframe\">\n",
       "  <thead>\n",
       "    <tr style=\"text-align: right;\">\n",
       "      <th></th>\n",
       "      <th>event_id</th>\n",
       "      <th>fight_id</th>\n",
       "      <th>date</th>\n",
       "      <th>location</th>\n",
       "      <th>winner</th>\n",
       "      <th>winner_id</th>\n",
       "    </tr>\n",
       "  </thead>\n",
       "  <tbody>\n",
       "    <tr>\n",
       "      <th>0</th>\n",
       "      <td>400c7b43c86d27d3</td>\n",
       "      <td>03bc32bdb5a33496</td>\n",
       "      <td>2025-06-21</td>\n",
       "      <td>Baku, Azerbaijan</td>\n",
       "      <td>Khalil Rountree Jr.</td>\n",
       "      <td>749f572d1d3161fb</td>\n",
       "    </tr>\n",
       "    <tr>\n",
       "      <th>1</th>\n",
       "      <td>400c7b43c86d27d3</td>\n",
       "      <td>a1afc16e21d1a807</td>\n",
       "      <td>2025-06-21</td>\n",
       "      <td>Baku, Azerbaijan</td>\n",
       "      <td>Rafael Fiziev</td>\n",
       "      <td>c814b4c899793af6</td>\n",
       "    </tr>\n",
       "    <tr>\n",
       "      <th>2</th>\n",
       "      <td>400c7b43c86d27d3</td>\n",
       "      <td>8e5744c664fec3e9</td>\n",
       "      <td>2025-06-21</td>\n",
       "      <td>Baku, Azerbaijan</td>\n",
       "      <td>Curtis Blaydes</td>\n",
       "      <td>fa6796c55d6c5440</td>\n",
       "    </tr>\n",
       "    <tr>\n",
       "      <th>3</th>\n",
       "      <td>400c7b43c86d27d3</td>\n",
       "      <td>36ec204f47e4d613</td>\n",
       "      <td>2025-06-21</td>\n",
       "      <td>Baku, Azerbaijan</td>\n",
       "      <td>Myktybek Orolbai</td>\n",
       "      <td>bf2c8e01b07d3eb1</td>\n",
       "    </tr>\n",
       "    <tr>\n",
       "      <th>4</th>\n",
       "      <td>400c7b43c86d27d3</td>\n",
       "      <td>7513a00037094075</td>\n",
       "      <td>2025-06-21</td>\n",
       "      <td>Baku, Azerbaijan</td>\n",
       "      <td>Nazim Sadykhov</td>\n",
       "      <td>ff62013d2fce6d13</td>\n",
       "    </tr>\n",
       "  </tbody>\n",
       "</table>\n",
       "</div>"
      ],
      "text/plain": [
       "           event_id          fight_id       date          location  \\\n",
       "0  400c7b43c86d27d3  03bc32bdb5a33496 2025-06-21  Baku, Azerbaijan   \n",
       "1  400c7b43c86d27d3  a1afc16e21d1a807 2025-06-21  Baku, Azerbaijan   \n",
       "2  400c7b43c86d27d3  8e5744c664fec3e9 2025-06-21  Baku, Azerbaijan   \n",
       "3  400c7b43c86d27d3  36ec204f47e4d613 2025-06-21  Baku, Azerbaijan   \n",
       "4  400c7b43c86d27d3  7513a00037094075 2025-06-21  Baku, Azerbaijan   \n",
       "\n",
       "                winner         winner_id  \n",
       "0  Khalil Rountree Jr.  749f572d1d3161fb  \n",
       "1        Rafael Fiziev  c814b4c899793af6  \n",
       "2       Curtis Blaydes  fa6796c55d6c5440  \n",
       "3     Myktybek Orolbai  bf2c8e01b07d3eb1  \n",
       "4       Nazim Sadykhov  ff62013d2fce6d13  "
      ]
     },
     "execution_count": 4,
     "metadata": {},
     "output_type": "execute_result"
    }
   ],
   "source": [
    "raw_event_details.head()"
   ]
  },
  {
   "cell_type": "code",
   "execution_count": 5,
   "id": "4c0d470a-d606-4491-9c77-c3779766748e",
   "metadata": {},
   "outputs": [
    {
     "name": "stdout",
     "output_type": "stream",
     "text": [
      "<class 'pandas.core.frame.DataFrame'>\n",
      "RangeIndex: 8250 entries, 0 to 8249\n",
      "Data columns (total 6 columns):\n",
      " #   Column     Non-Null Count  Dtype         \n",
      "---  ------     --------------  -----         \n",
      " 0   event_id   8250 non-null   object        \n",
      " 1   fight_id   8250 non-null   object        \n",
      " 2   date       8250 non-null   datetime64[ns]\n",
      " 3   location   8250 non-null   object        \n",
      " 4   winner     8104 non-null   object        \n",
      " 5   winner_id  8104 non-null   object        \n",
      "dtypes: datetime64[ns](1), object(5)\n",
      "memory usage: 386.8+ KB\n"
     ]
    }
   ],
   "source": [
    "raw_event_details.info()"
   ]
  },
  {
   "cell_type": "markdown",
   "id": "cd23d65a-4e16-42ac-95da-4e8cbc31461c",
   "metadata": {},
   "source": [
    "### Fighter details exploration"
   ]
  },
  {
   "cell_type": "code",
   "execution_count": 6,
   "id": "9223e8a9-1f19-4f41-ab19-7ca4843ce7b0",
   "metadata": {},
   "outputs": [
    {
     "data": {
      "text/html": [
       "<div>\n",
       "<style scoped>\n",
       "    .dataframe tbody tr th:only-of-type {\n",
       "        vertical-align: middle;\n",
       "    }\n",
       "\n",
       "    .dataframe tbody tr th {\n",
       "        vertical-align: top;\n",
       "    }\n",
       "\n",
       "    .dataframe thead th {\n",
       "        text-align: right;\n",
       "    }\n",
       "</style>\n",
       "<table border=\"1\" class=\"dataframe\">\n",
       "  <thead>\n",
       "    <tr style=\"text-align: right;\">\n",
       "      <th></th>\n",
       "      <th>id</th>\n",
       "      <th>name</th>\n",
       "      <th>nick_name</th>\n",
       "      <th>wins</th>\n",
       "      <th>losses</th>\n",
       "      <th>draws</th>\n",
       "      <th>height</th>\n",
       "      <th>weight</th>\n",
       "      <th>reach</th>\n",
       "      <th>stance</th>\n",
       "      <th>dob</th>\n",
       "      <th>splm</th>\n",
       "      <th>str_acc</th>\n",
       "      <th>sapm</th>\n",
       "      <th>str_def</th>\n",
       "      <th>td_avg</th>\n",
       "      <th>td_avg_acc</th>\n",
       "      <th>td_def</th>\n",
       "      <th>sub_avg</th>\n",
       "    </tr>\n",
       "  </thead>\n",
       "  <tbody>\n",
       "    <tr>\n",
       "      <th>0</th>\n",
       "      <td>74fefd43f073cd2f</td>\n",
       "      <td>Joe Pardo</td>\n",
       "      <td>NaN</td>\n",
       "      <td>4</td>\n",
       "      <td>6</td>\n",
       "      <td>0</td>\n",
       "      <td>185.42</td>\n",
       "      <td>95.25</td>\n",
       "      <td>NaN</td>\n",
       "      <td>Southpaw</td>\n",
       "      <td>NaT</td>\n",
       "      <td>0.00</td>\n",
       "      <td>0</td>\n",
       "      <td>0.00</td>\n",
       "      <td>0</td>\n",
       "      <td>0.00</td>\n",
       "      <td>0</td>\n",
       "      <td>0</td>\n",
       "      <td>0.0</td>\n",
       "    </tr>\n",
       "    <tr>\n",
       "      <th>1</th>\n",
       "      <td>8c1ca54b5089d199</td>\n",
       "      <td>Maheshate</td>\n",
       "      <td>NaN</td>\n",
       "      <td>10</td>\n",
       "      <td>4</td>\n",
       "      <td>0</td>\n",
       "      <td>182.88</td>\n",
       "      <td>70.31</td>\n",
       "      <td>180.34</td>\n",
       "      <td>Orthodox</td>\n",
       "      <td>1999-12-01</td>\n",
       "      <td>3.86</td>\n",
       "      <td>29</td>\n",
       "      <td>5.64</td>\n",
       "      <td>53</td>\n",
       "      <td>0.00</td>\n",
       "      <td>0</td>\n",
       "      <td>45</td>\n",
       "      <td>0.0</td>\n",
       "    </tr>\n",
       "    <tr>\n",
       "      <th>2</th>\n",
       "      <td>4234f0097c83fa62</td>\n",
       "      <td>Sijara Eubanks</td>\n",
       "      <td>SarJ</td>\n",
       "      <td>8</td>\n",
       "      <td>7</td>\n",
       "      <td>0</td>\n",
       "      <td>162.56</td>\n",
       "      <td>56.70</td>\n",
       "      <td>170.18</td>\n",
       "      <td>Orthodox</td>\n",
       "      <td>1985-04-27</td>\n",
       "      <td>4.30</td>\n",
       "      <td>43</td>\n",
       "      <td>3.43</td>\n",
       "      <td>57</td>\n",
       "      <td>1.90</td>\n",
       "      <td>44</td>\n",
       "      <td>66</td>\n",
       "      <td>0.3</td>\n",
       "    </tr>\n",
       "    <tr>\n",
       "      <th>3</th>\n",
       "      <td>1291edf2d566a71a</td>\n",
       "      <td>Julio Arce</td>\n",
       "      <td>NaN</td>\n",
       "      <td>19</td>\n",
       "      <td>6</td>\n",
       "      <td>0</td>\n",
       "      <td>170.18</td>\n",
       "      <td>65.77</td>\n",
       "      <td>177.80</td>\n",
       "      <td>Southpaw</td>\n",
       "      <td>1989-10-27</td>\n",
       "      <td>4.36</td>\n",
       "      <td>36</td>\n",
       "      <td>3.05</td>\n",
       "      <td>68</td>\n",
       "      <td>0.46</td>\n",
       "      <td>28</td>\n",
       "      <td>96</td>\n",
       "      <td>0.3</td>\n",
       "    </tr>\n",
       "    <tr>\n",
       "      <th>4</th>\n",
       "      <td>7a47e068f8017019</td>\n",
       "      <td>Val Woodburn</td>\n",
       "      <td>The Animal</td>\n",
       "      <td>7</td>\n",
       "      <td>2</td>\n",
       "      <td>0</td>\n",
       "      <td>172.72</td>\n",
       "      <td>77.11</td>\n",
       "      <td>187.96</td>\n",
       "      <td>Orthodox</td>\n",
       "      <td>1993-08-10</td>\n",
       "      <td>1.60</td>\n",
       "      <td>35</td>\n",
       "      <td>4.93</td>\n",
       "      <td>36</td>\n",
       "      <td>1.92</td>\n",
       "      <td>100</td>\n",
       "      <td>50</td>\n",
       "      <td>0.0</td>\n",
       "    </tr>\n",
       "  </tbody>\n",
       "</table>\n",
       "</div>"
      ],
      "text/plain": [
       "                 id            name   nick_name  wins  losses  draws  height  \\\n",
       "0  74fefd43f073cd2f       Joe Pardo         NaN     4       6      0  185.42   \n",
       "1  8c1ca54b5089d199       Maheshate         NaN    10       4      0  182.88   \n",
       "2  4234f0097c83fa62  Sijara Eubanks        SarJ     8       7      0  162.56   \n",
       "3  1291edf2d566a71a      Julio Arce         NaN    19       6      0  170.18   \n",
       "4  7a47e068f8017019    Val Woodburn  The Animal     7       2      0  172.72   \n",
       "\n",
       "   weight   reach    stance        dob  splm  str_acc  sapm  str_def  td_avg  \\\n",
       "0   95.25     NaN  Southpaw        NaT  0.00        0  0.00        0    0.00   \n",
       "1   70.31  180.34  Orthodox 1999-12-01  3.86       29  5.64       53    0.00   \n",
       "2   56.70  170.18  Orthodox 1985-04-27  4.30       43  3.43       57    1.90   \n",
       "3   65.77  177.80  Southpaw 1989-10-27  4.36       36  3.05       68    0.46   \n",
       "4   77.11  187.96  Orthodox 1993-08-10  1.60       35  4.93       36    1.92   \n",
       "\n",
       "   td_avg_acc  td_def  sub_avg  \n",
       "0           0       0      0.0  \n",
       "1           0      45      0.0  \n",
       "2          44      66      0.3  \n",
       "3          28      96      0.3  \n",
       "4         100      50      0.0  "
      ]
     },
     "execution_count": 6,
     "metadata": {},
     "output_type": "execute_result"
    }
   ],
   "source": [
    "raw_figther_details.head()"
   ]
  },
  {
   "cell_type": "code",
   "execution_count": 7,
   "id": "91c7aa34-7979-4c72-9a99-249d55b0f899",
   "metadata": {},
   "outputs": [
    {
     "name": "stdout",
     "output_type": "stream",
     "text": [
      "<class 'pandas.core.frame.DataFrame'>\n",
      "RangeIndex: 2598 entries, 0 to 2597\n",
      "Data columns (total 19 columns):\n",
      " #   Column      Non-Null Count  Dtype         \n",
      "---  ------      --------------  -----         \n",
      " 0   id          2598 non-null   object        \n",
      " 1   name        2598 non-null   object        \n",
      " 2   nick_name   1682 non-null   object        \n",
      " 3   wins        2598 non-null   int64         \n",
      " 4   losses      2598 non-null   int64         \n",
      " 5   draws       2598 non-null   int64         \n",
      " 6   height      2577 non-null   float64       \n",
      " 7   weight      2580 non-null   float64       \n",
      " 8   reach       1943 non-null   float64       \n",
      " 9   stance      2521 non-null   object        \n",
      " 10  dob         2442 non-null   datetime64[ns]\n",
      " 11  splm        2598 non-null   float64       \n",
      " 12  str_acc     2598 non-null   int64         \n",
      " 13  sapm        2598 non-null   float64       \n",
      " 14  str_def     2598 non-null   int64         \n",
      " 15  td_avg      2598 non-null   float64       \n",
      " 16  td_avg_acc  2598 non-null   int64         \n",
      " 17  td_def      2598 non-null   int64         \n",
      " 18  sub_avg     2598 non-null   float64       \n",
      "dtypes: datetime64[ns](1), float64(7), int64(7), object(4)\n",
      "memory usage: 385.8+ KB\n"
     ]
    }
   ],
   "source": [
    "raw_figther_details.info()"
   ]
  },
  {
   "cell_type": "markdown",
   "id": "1dc39ab7-0a96-410a-ad88-dd43f886d0c9",
   "metadata": {},
   "source": [
    "### Fight details exploration"
   ]
  },
  {
   "cell_type": "code",
   "execution_count": 8,
   "id": "3aabe96d-0861-4729-9ed1-00f9cfc3dfe3",
   "metadata": {},
   "outputs": [
    {
     "data": {
      "text/html": [
       "<div>\n",
       "<style scoped>\n",
       "    .dataframe tbody tr th:only-of-type {\n",
       "        vertical-align: middle;\n",
       "    }\n",
       "\n",
       "    .dataframe tbody tr th {\n",
       "        vertical-align: top;\n",
       "    }\n",
       "\n",
       "    .dataframe thead th {\n",
       "        text-align: right;\n",
       "    }\n",
       "</style>\n",
       "<table border=\"1\" class=\"dataframe\">\n",
       "  <thead>\n",
       "    <tr style=\"text-align: right;\">\n",
       "      <th></th>\n",
       "      <th>event_name</th>\n",
       "      <th>event_id</th>\n",
       "      <th>fight_id</th>\n",
       "      <th>r_name</th>\n",
       "      <th>r_id</th>\n",
       "      <th>b_name</th>\n",
       "      <th>b_id</th>\n",
       "      <th>division</th>\n",
       "      <th>title_fight</th>\n",
       "      <th>method</th>\n",
       "      <th>...</th>\n",
       "      <th>b_clinch_acc</th>\n",
       "      <th>b_ground_landed</th>\n",
       "      <th>b_ground_atmpted</th>\n",
       "      <th>b_ground_acc</th>\n",
       "      <th>b_landed_head_per</th>\n",
       "      <th>b_landed_body_per</th>\n",
       "      <th>b_landed_leg_per</th>\n",
       "      <th>b_landed_dist_per</th>\n",
       "      <th>b_landed_clinch_per</th>\n",
       "      <th>b_landed_ground_per</th>\n",
       "    </tr>\n",
       "  </thead>\n",
       "  <tbody>\n",
       "    <tr>\n",
       "      <th>0</th>\n",
       "      <td>UFC Fight Night: Hill vs. Rountree Jr.</td>\n",
       "      <td>400c7b43c86d27d3</td>\n",
       "      <td>36ec204f47e4d613</td>\n",
       "      <td>Tofiq Musayev</td>\n",
       "      <td>ae81a3ac7b260411</td>\n",
       "      <td>Myktybek Orolbai</td>\n",
       "      <td>bf2c8e01b07d3eb1</td>\n",
       "      <td>catch weight</td>\n",
       "      <td>0</td>\n",
       "      <td>Submission</td>\n",
       "      <td>...</td>\n",
       "      <td>NaN</td>\n",
       "      <td>1.0</td>\n",
       "      <td>3.0</td>\n",
       "      <td>33.0</td>\n",
       "      <td>100.0</td>\n",
       "      <td>0.0</td>\n",
       "      <td>0.0</td>\n",
       "      <td>50.0</td>\n",
       "      <td>0.0</td>\n",
       "      <td>50.0</td>\n",
       "    </tr>\n",
       "    <tr>\n",
       "      <th>1</th>\n",
       "      <td>UFC Fight Night: Hill vs. Rountree Jr.</td>\n",
       "      <td>400c7b43c86d27d3</td>\n",
       "      <td>a1afc16e21d1a807</td>\n",
       "      <td>Rafael Fiziev</td>\n",
       "      <td>c814b4c899793af6</td>\n",
       "      <td>Ignacio Bahamondes</td>\n",
       "      <td>e4a47b07044ddd72</td>\n",
       "      <td>lightweight</td>\n",
       "      <td>0</td>\n",
       "      <td>Decision - Unanimous</td>\n",
       "      <td>...</td>\n",
       "      <td>38.0</td>\n",
       "      <td>0.0</td>\n",
       "      <td>0.0</td>\n",
       "      <td>NaN</td>\n",
       "      <td>46.0</td>\n",
       "      <td>26.0</td>\n",
       "      <td>28.0</td>\n",
       "      <td>94.0</td>\n",
       "      <td>6.0</td>\n",
       "      <td>0.0</td>\n",
       "    </tr>\n",
       "    <tr>\n",
       "      <th>2</th>\n",
       "      <td>UFC Fight Night: Hill vs. Rountree Jr.</td>\n",
       "      <td>400c7b43c86d27d3</td>\n",
       "      <td>7513a00037094075</td>\n",
       "      <td>Nazim Sadykhov</td>\n",
       "      <td>ff62013d2fce6d13</td>\n",
       "      <td>Nikolas Motta</td>\n",
       "      <td>37f560436d745c18</td>\n",
       "      <td>lightweight</td>\n",
       "      <td>0</td>\n",
       "      <td>KO/TKO</td>\n",
       "      <td>...</td>\n",
       "      <td>55.0</td>\n",
       "      <td>0.0</td>\n",
       "      <td>0.0</td>\n",
       "      <td>NaN</td>\n",
       "      <td>69.0</td>\n",
       "      <td>24.0</td>\n",
       "      <td>6.0</td>\n",
       "      <td>81.0</td>\n",
       "      <td>18.0</td>\n",
       "      <td>0.0</td>\n",
       "    </tr>\n",
       "    <tr>\n",
       "      <th>3</th>\n",
       "      <td>UFC Fight Night: Hill vs. Rountree Jr.</td>\n",
       "      <td>400c7b43c86d27d3</td>\n",
       "      <td>e512b80bbaea36c2</td>\n",
       "      <td>Seokhyeon Ko</td>\n",
       "      <td>4a07b1988477502c</td>\n",
       "      <td>Oban Elliott</td>\n",
       "      <td>6b56e94a59b7b134</td>\n",
       "      <td>welterweight</td>\n",
       "      <td>0</td>\n",
       "      <td>Decision - Unanimous</td>\n",
       "      <td>...</td>\n",
       "      <td>100.0</td>\n",
       "      <td>0.0</td>\n",
       "      <td>0.0</td>\n",
       "      <td>NaN</td>\n",
       "      <td>20.0</td>\n",
       "      <td>60.0</td>\n",
       "      <td>20.0</td>\n",
       "      <td>90.0</td>\n",
       "      <td>10.0</td>\n",
       "      <td>0.0</td>\n",
       "    </tr>\n",
       "    <tr>\n",
       "      <th>4</th>\n",
       "      <td>UFC Fight Night: Hill vs. Rountree Jr.</td>\n",
       "      <td>400c7b43c86d27d3</td>\n",
       "      <td>03bc32bdb5a33496</td>\n",
       "      <td>Jamahal Hill</td>\n",
       "      <td>5444c5a201d3ee5a</td>\n",
       "      <td>Khalil Rountree Jr.</td>\n",
       "      <td>749f572d1d3161fb</td>\n",
       "      <td>light heavyweight</td>\n",
       "      <td>0</td>\n",
       "      <td>Decision - Unanimous</td>\n",
       "      <td>...</td>\n",
       "      <td>NaN</td>\n",
       "      <td>0.0</td>\n",
       "      <td>0.0</td>\n",
       "      <td>NaN</td>\n",
       "      <td>29.0</td>\n",
       "      <td>41.0</td>\n",
       "      <td>29.0</td>\n",
       "      <td>100.0</td>\n",
       "      <td>0.0</td>\n",
       "      <td>0.0</td>\n",
       "    </tr>\n",
       "  </tbody>\n",
       "</table>\n",
       "<p>5 rows × 86 columns</p>\n",
       "</div>"
      ],
      "text/plain": [
       "                               event_name          event_id          fight_id  \\\n",
       "0  UFC Fight Night: Hill vs. Rountree Jr.  400c7b43c86d27d3  36ec204f47e4d613   \n",
       "1  UFC Fight Night: Hill vs. Rountree Jr.  400c7b43c86d27d3  a1afc16e21d1a807   \n",
       "2  UFC Fight Night: Hill vs. Rountree Jr.  400c7b43c86d27d3  7513a00037094075   \n",
       "3  UFC Fight Night: Hill vs. Rountree Jr.  400c7b43c86d27d3  e512b80bbaea36c2   \n",
       "4  UFC Fight Night: Hill vs. Rountree Jr.  400c7b43c86d27d3  03bc32bdb5a33496   \n",
       "\n",
       "           r_name              r_id               b_name              b_id  \\\n",
       "0   Tofiq Musayev  ae81a3ac7b260411     Myktybek Orolbai  bf2c8e01b07d3eb1   \n",
       "1   Rafael Fiziev  c814b4c899793af6   Ignacio Bahamondes  e4a47b07044ddd72   \n",
       "2  Nazim Sadykhov  ff62013d2fce6d13        Nikolas Motta  37f560436d745c18   \n",
       "3    Seokhyeon Ko  4a07b1988477502c         Oban Elliott  6b56e94a59b7b134   \n",
       "4    Jamahal Hill  5444c5a201d3ee5a  Khalil Rountree Jr.  749f572d1d3161fb   \n",
       "\n",
       "            division  title_fight                method  ...  b_clinch_acc  \\\n",
       "0       catch weight            0            Submission  ...           NaN   \n",
       "1        lightweight            0  Decision - Unanimous  ...          38.0   \n",
       "2        lightweight            0                KO/TKO  ...          55.0   \n",
       "3       welterweight            0  Decision - Unanimous  ...         100.0   \n",
       "4  light heavyweight            0  Decision - Unanimous  ...           NaN   \n",
       "\n",
       "   b_ground_landed  b_ground_atmpted b_ground_acc  b_landed_head_per  \\\n",
       "0              1.0               3.0         33.0              100.0   \n",
       "1              0.0               0.0          NaN               46.0   \n",
       "2              0.0               0.0          NaN               69.0   \n",
       "3              0.0               0.0          NaN               20.0   \n",
       "4              0.0               0.0          NaN               29.0   \n",
       "\n",
       "   b_landed_body_per  b_landed_leg_per  b_landed_dist_per  \\\n",
       "0                0.0               0.0               50.0   \n",
       "1               26.0              28.0               94.0   \n",
       "2               24.0               6.0               81.0   \n",
       "3               60.0              20.0               90.0   \n",
       "4               41.0              29.0              100.0   \n",
       "\n",
       "   b_landed_clinch_per  b_landed_ground_per  \n",
       "0                  0.0                 50.0  \n",
       "1                  6.0                  0.0  \n",
       "2                 18.0                  0.0  \n",
       "3                 10.0                  0.0  \n",
       "4                  0.0                  0.0  \n",
       "\n",
       "[5 rows x 86 columns]"
      ]
     },
     "execution_count": 8,
     "metadata": {},
     "output_type": "execute_result"
    }
   ],
   "source": [
    "raw_fight_details.head()"
   ]
  },
  {
   "cell_type": "code",
   "execution_count": 9,
   "id": "bfc3202e-309e-450a-9967-53c7e739505c",
   "metadata": {},
   "outputs": [
    {
     "name": "stdout",
     "output_type": "stream",
     "text": [
      "<class 'pandas.core.frame.DataFrame'>\n",
      "RangeIndex: 8250 entries, 0 to 8249\n",
      "Data columns (total 86 columns):\n",
      " #   Column               Non-Null Count  Dtype  \n",
      "---  ------               --------------  -----  \n",
      " 0   event_name           8250 non-null   object \n",
      " 1   event_id             8250 non-null   object \n",
      " 2   fight_id             8250 non-null   object \n",
      " 3   r_name               8250 non-null   object \n",
      " 4   r_id                 8250 non-null   object \n",
      " 5   b_name               8250 non-null   object \n",
      " 6   b_id                 8250 non-null   object \n",
      " 7   division             8250 non-null   object \n",
      " 8   title_fight          8250 non-null   int64  \n",
      " 9   method               8250 non-null   object \n",
      " 10  finish_round         8250 non-null   int64  \n",
      " 11  match_time_sec       8250 non-null   int64  \n",
      " 12  total_rounds         8219 non-null   float64\n",
      " 13  referee              8224 non-null   object \n",
      " 14  r_kd                 8229 non-null   float64\n",
      " 15  r_sig_str_landed     8229 non-null   float64\n",
      " 16  r_sig_str_atmpted    8229 non-null   float64\n",
      " 17  r_sig_str_acc        8191 non-null   float64\n",
      " 18  r_total_str_landed   8229 non-null   float64\n",
      " 19  r_total_str_atmpted  8229 non-null   float64\n",
      " 20  r_total_str_acc      8202 non-null   float64\n",
      " 21  r_td_landed          8229 non-null   float64\n",
      " 22  r_td_atmpted         8229 non-null   float64\n",
      " 23  r_td_acc             5592 non-null   float64\n",
      " 24  r_sub_att            8229 non-null   float64\n",
      " 25  r_ctrl               8048 non-null   float64\n",
      " 26  r_head_landed        8229 non-null   float64\n",
      " 27  r_head_atmpted       8229 non-null   float64\n",
      " 28  r_head_acc           8151 non-null   float64\n",
      " 29  r_body_landed        8229 non-null   float64\n",
      " 30  r_body_atmpted       8229 non-null   float64\n",
      " 31  r_body_acc           7399 non-null   float64\n",
      " 32  r_leg_landed         8229 non-null   float64\n",
      " 33  r_leg_atmpted        8229 non-null   float64\n",
      " 34  r_leg_acc            6682 non-null   float64\n",
      " 35  r_dist_landed        8229 non-null   float64\n",
      " 36  r_dist_atmpted       8229 non-null   float64\n",
      " 37  r_dist_acc           8111 non-null   float64\n",
      " 38  r_clinch_landed      8229 non-null   float64\n",
      " 39  r_clinch_atmpted     8229 non-null   float64\n",
      " 40  r_clinch_acc         6273 non-null   float64\n",
      " 41  r_ground_landed      8229 non-null   float64\n",
      " 42  r_ground_atmpted     8229 non-null   float64\n",
      " 43  r_ground_acc         5334 non-null   float64\n",
      " 44  r_landed_head_per    8229 non-null   float64\n",
      " 45  r_landed_body_per    8229 non-null   float64\n",
      " 46  r_landed_leg_per     8229 non-null   float64\n",
      " 47  r_landed_dist_per    8229 non-null   float64\n",
      " 48  r_landed_clinch_per  8229 non-null   float64\n",
      " 49  r_landed_ground_per  8229 non-null   float64\n",
      " 50  b_kd                 8229 non-null   float64\n",
      " 51  b_sig_str_landed     8229 non-null   float64\n",
      " 52  b_sig_str_atmpted    8229 non-null   float64\n",
      " 53  b_sig_str_acc        8172 non-null   float64\n",
      " 54  b_total_str_landed   8229 non-null   float64\n",
      " 55  b_total_str_atmpted  8229 non-null   float64\n",
      " 56  b_total_str_acc      8193 non-null   float64\n",
      " 57  b_td_landed          8229 non-null   float64\n",
      " 58  b_td_atmpted         8229 non-null   float64\n",
      " 59  b_td_acc             5161 non-null   float64\n",
      " 60  b_sub_att            8229 non-null   float64\n",
      " 61  b_ctrl               8048 non-null   float64\n",
      " 62  b_head_landed        8229 non-null   float64\n",
      " 63  b_head_atmpted       8229 non-null   float64\n",
      " 64  b_head_acc           8094 non-null   float64\n",
      " 65  b_body_landed        8229 non-null   float64\n",
      " 66  b_body_atmpted       8229 non-null   float64\n",
      " 67  b_body_acc           7260 non-null   float64\n",
      " 68  b_leg_landed         8229 non-null   float64\n",
      " 69  b_leg_atmpted        8229 non-null   float64\n",
      " 70  b_leg_acc            6697 non-null   float64\n",
      " 71  b_dist_landed        8229 non-null   float64\n",
      " 72  b_dist_atmpted       8229 non-null   float64\n",
      " 73  b_dist_acc           8122 non-null   float64\n",
      " 74  b_clinch_landed      8229 non-null   float64\n",
      " 75  b_clinch_atmpted     8229 non-null   float64\n",
      " 76  b_clinch_acc         6235 non-null   float64\n",
      " 77  b_ground_landed      8229 non-null   float64\n",
      " 78  b_ground_atmpted     8229 non-null   float64\n",
      " 79  b_ground_acc         4480 non-null   float64\n",
      " 80  b_landed_head_per    8229 non-null   float64\n",
      " 81  b_landed_body_per    8229 non-null   float64\n",
      " 82  b_landed_leg_per     8229 non-null   float64\n",
      " 83  b_landed_dist_per    8229 non-null   float64\n",
      " 84  b_landed_clinch_per  8229 non-null   float64\n",
      " 85  b_landed_ground_per  8229 non-null   float64\n",
      "dtypes: float64(73), int64(3), object(10)\n",
      "memory usage: 5.4+ MB\n"
     ]
    }
   ],
   "source": [
    "raw_fight_details.info()"
   ]
  },
  {
   "cell_type": "markdown",
   "id": "22ddfa22-f097-46bd-a7dc-8de52db54d52",
   "metadata": {},
   "source": [
    "# Fight details initial cleaning"
   ]
  },
  {
   "cell_type": "markdown",
   "id": "540f4365-bb52-450e-9913-ac44951b02f5",
   "metadata": {},
   "source": [
    "> Only weight categories with short names (up to two words) and divisions with no numbers in the name were considered, as long names suggest personalized, inconsistent, or poorly categorized divisions in the raw data. Also Superfight Championship and Open Weight were removed because they were disputed only in, respectively 2 and 4 years"
   ]
  },
  {
   "cell_type": "code",
   "execution_count": 10,
   "id": "3b19730e-becb-4348-9074-e4cc7ae965b5",
   "metadata": {},
   "outputs": [],
   "source": [
    "filtered_raw_fight_details = raw_fight_details[\n",
    "    (raw_fight_details[\"division\"].str.split().str.len() <= 2) &\n",
    "    (~raw_fight_details[\"division\"].str.contains(r'\\d', regex=True)) & \n",
    "    (~raw_fight_details[\"division\"].str.contains(r'open weight|superfight championship', regex=True))\n",
    "]"
   ]
  },
  {
   "cell_type": "markdown",
   "id": "3ba2a0e1-e85a-480d-872d-ca543fd18101",
   "metadata": {},
   "source": [
    "# 1. Description Reports"
   ]
  },
  {
   "cell_type": "markdown",
   "id": "fb4c1e8a-fbef-4d96-963a-50fe6497c21a",
   "metadata": {},
   "source": [
    "## Historical overview of the UFC"
   ]
  },
  {
   "cell_type": "markdown",
   "id": "086f0498-c7a6-4361-8082-046b9526e330",
   "metadata": {},
   "source": [
    "### Events by year"
   ]
  },
  {
   "cell_type": "code",
   "execution_count": 11,
   "id": "291cb376-8a12-4372-8c03-b4b725a5d4cb",
   "metadata": {},
   "outputs": [],
   "source": [
    "# fights_by_year = Counter(raw_event_details[\"date\"].map(lambda d: d.year)) my approach, more python way\n",
    "# One problem with my approach is that I'll have to make a bunch of conversions in order to plot the data\n",
    "events_by_year = raw_event_details[\"date\"].dt.year.value_counts().sort_index() # LLM approach suggestion, more pandas way"
   ]
  },
  {
   "cell_type": "code",
   "execution_count": 12,
   "id": "c1cbd58d-110f-404e-ae63-a80acd1202f4",
   "metadata": {},
   "outputs": [
    {
     "data": {
      "image/png": "[encoded data removed]",
      "text/plain": [
       "<Figure size 1200x600 with 1 Axes>"
      ]
     },
     "metadata": {},
     "output_type": "display_data"
    }
   ],
   "source": [
    "events_by_year.plot(kind=\"bar\", figsize=(12, 6), title=\"Number of events by year\")\n",
    "plt.xlabel(\"Year\")\n",
    "plt.ylabel(\"Number of events\")\n",
    "plt.grid(True)\n",
    "plt.tight_layout()\n",
    "plt.show()"
   ]
  },
  {
   "cell_type": "markdown",
   "id": "a6d4373f-9c6a-46ac-9089-60bc9553c1fc",
   "metadata": {},
   "source": [
    "> We can see from the chart that the number of events in the year increased significantly from 2005 onwards"
   ]
  },
  {
   "cell_type": "markdown",
   "id": "e61b87bb-c3e0-449c-a9bc-9f7ac0b87270",
   "metadata": {},
   "source": [
    "### Top 5 Cities and Countries with more events"
   ]
  },
  {
   "cell_type": "code",
   "execution_count": 13,
   "id": "9bd06533-bac3-45d3-ab6c-0a90cd4da2bd",
   "metadata": {},
   "outputs": [],
   "source": [
    "event_location = raw_event_details[\"location\"].copy()\n",
    "\n",
    "split_location = event_location.str.split(',', expand=True).apply(lambda col: col.str.strip())\n",
    "\n",
    "# Creating new data frame\n",
    "event_location_df = pd.DataFrame()\n",
    "event_location_df[\"city\"] = split_location[0]\n",
    "event_location_df[\"country\"] = split_location.apply(\n",
    "    lambda row: row.iloc[-2] if pd.isna(row.iloc[-1]) else row.iloc[-1],\n",
    "    axis=1\n",
    ")"
   ]
  },
  {
   "cell_type": "code",
   "execution_count": 14,
   "id": "ed3f0784-83f7-4dbc-b41e-ec714d99ce14",
   "metadata": {},
   "outputs": [
    {
     "data": {
      "text/plain": [
       "city\n",
       "Las Vegas         2787\n",
       "Abu Dhabi          240\n",
       "London             183\n",
       "Rio de Janeiro     147\n",
       "Newark             127\n",
       "Name: count, dtype: int64"
      ]
     },
     "execution_count": 14,
     "metadata": {},
     "output_type": "execute_result"
    }
   ],
   "source": [
    "cities_num_of_events = event_location_df[\"city\"].value_counts().sort_values(ascending=False)\n",
    "cities_num_of_events.head(5)"
   ]
  },
  {
   "cell_type": "code",
   "execution_count": 15,
   "id": "4064d29f-c85f-462c-8bca-f3f6250e168a",
   "metadata": {},
   "outputs": [
    {
     "data": {
      "text/plain": [
       "country\n",
       "USA                     5764\n",
       "Brazil                   471\n",
       "Canada                   413\n",
       "United Kingdom           338\n",
       "United Arab Emirates     240\n",
       "Name: count, dtype: int64"
      ]
     },
     "execution_count": 15,
     "metadata": {},
     "output_type": "execute_result"
    }
   ],
   "source": [
    "cities_num_of_events = event_location_df[\"country\"].value_counts().sort_values(ascending=False)\n",
    "cities_num_of_events.head(5)"
   ]
  },
  {
   "cell_type": "markdown",
   "id": "950f130e-cb02-499a-900a-101deb521b80",
   "metadata": {},
   "source": [
    "### Number of fights by weight category over time"
   ]
  },
  {
   "cell_type": "code",
   "execution_count": 16,
   "id": "9170a167-e230-492f-b775-deaeeef3b802",
   "metadata": {},
   "outputs": [],
   "source": [
    "categories_fights = pd.merge(\n",
    "    filtered_raw_fight_details[[\"event_id\", \"division\"]],\n",
    "    raw_event_details[[\"event_id\", \"date\"]],\n",
    "    on=\"event_id\",\n",
    "    how=\"inner\"\n",
    ").drop([\"event_id\"], axis = 1)"
   ]
  },
  {
   "cell_type": "code",
   "execution_count": 17,
   "id": "9a2d8606-10df-4349-9c0a-3e31d2334da8",
   "metadata": {},
   "outputs": [],
   "source": [
    "categories_fights[\"year\"] = pd.to_datetime(categories_fights[\"date\"]).dt.year"
   ]
  },
  {
   "cell_type": "code",
   "execution_count": 18,
   "id": "571a6400-dd66-49b4-a459-5c7b16452aee",
   "metadata": {},
   "outputs": [],
   "source": [
    "categories_fights = categories_fights.drop([\"date\"], axis = 1)"
   ]
  },
  {
   "cell_type": "code",
   "execution_count": 19,
   "id": "275f7472-c61a-4de0-961b-8c1479129e3f",
   "metadata": {},
   "outputs": [],
   "source": [
    "fights_per_year_division = (\n",
    "    categories_fights\n",
    "    .groupby([\"year\", \"division\"])\n",
    "    .size()\n",
    "    .reset_index(name=\"num_fights\")\n",
    ")"
   ]
  },
  {
   "cell_type": "code",
   "execution_count": 20,
   "id": "e3b87c5e-2d81-493f-8e0a-9ca3a5086db1",
   "metadata": {},
   "outputs": [
    {
     "data": {
      "text/html": [
       "<div>\n",
       "<style scoped>\n",
       "    .dataframe tbody tr th:only-of-type {\n",
       "        vertical-align: middle;\n",
       "    }\n",
       "\n",
       "    .dataframe tbody tr th {\n",
       "        vertical-align: top;\n",
       "    }\n",
       "\n",
       "    .dataframe thead th {\n",
       "        text-align: right;\n",
       "    }\n",
       "</style>\n",
       "<table border=\"1\" class=\"dataframe\">\n",
       "  <thead>\n",
       "    <tr style=\"text-align: right;\">\n",
       "      <th></th>\n",
       "      <th>year</th>\n",
       "      <th>division</th>\n",
       "      <th>num_fights</th>\n",
       "    </tr>\n",
       "  </thead>\n",
       "  <tbody>\n",
       "    <tr>\n",
       "      <th>0</th>\n",
       "      <td>1997</td>\n",
       "      <td>heavyweight</td>\n",
       "      <td>185</td>\n",
       "    </tr>\n",
       "    <tr>\n",
       "      <th>1</th>\n",
       "      <td>1997</td>\n",
       "      <td>light heavyweight</td>\n",
       "      <td>7</td>\n",
       "    </tr>\n",
       "    <tr>\n",
       "      <th>2</th>\n",
       "      <td>1997</td>\n",
       "      <td>lightweight</td>\n",
       "      <td>99</td>\n",
       "    </tr>\n",
       "    <tr>\n",
       "      <th>3</th>\n",
       "      <td>1998</td>\n",
       "      <td>heavyweight</td>\n",
       "      <td>60</td>\n",
       "    </tr>\n",
       "    <tr>\n",
       "      <th>4</th>\n",
       "      <td>1998</td>\n",
       "      <td>light heavyweight</td>\n",
       "      <td>25</td>\n",
       "    </tr>\n",
       "    <tr>\n",
       "      <th>...</th>\n",
       "      <td>...</td>\n",
       "      <td>...</td>\n",
       "      <td>...</td>\n",
       "    </tr>\n",
       "    <tr>\n",
       "      <th>265</th>\n",
       "      <td>2025</td>\n",
       "      <td>welterweight</td>\n",
       "      <td>357</td>\n",
       "    </tr>\n",
       "    <tr>\n",
       "      <th>266</th>\n",
       "      <td>2025</td>\n",
       "      <td>women's bantamweight</td>\n",
       "      <td>125</td>\n",
       "    </tr>\n",
       "    <tr>\n",
       "      <th>267</th>\n",
       "      <td>2025</td>\n",
       "      <td>women's featherweight</td>\n",
       "      <td>9</td>\n",
       "    </tr>\n",
       "    <tr>\n",
       "      <th>268</th>\n",
       "      <td>2025</td>\n",
       "      <td>women's flyweight</td>\n",
       "      <td>182</td>\n",
       "    </tr>\n",
       "    <tr>\n",
       "      <th>269</th>\n",
       "      <td>2025</td>\n",
       "      <td>women's strawweight</td>\n",
       "      <td>219</td>\n",
       "    </tr>\n",
       "  </tbody>\n",
       "</table>\n",
       "<p>270 rows × 3 columns</p>\n",
       "</div>"
      ],
      "text/plain": [
       "     year               division  num_fights\n",
       "0    1997            heavyweight         185\n",
       "1    1997      light heavyweight           7\n",
       "2    1997            lightweight          99\n",
       "3    1998            heavyweight          60\n",
       "4    1998      light heavyweight          25\n",
       "..    ...                    ...         ...\n",
       "265  2025           welterweight         357\n",
       "266  2025   women's bantamweight         125\n",
       "267  2025  women's featherweight           9\n",
       "268  2025      women's flyweight         182\n",
       "269  2025    women's strawweight         219\n",
       "\n",
       "[270 rows x 3 columns]"
      ]
     },
     "execution_count": 20,
     "metadata": {},
     "output_type": "execute_result"
    }
   ],
   "source": [
    "fights_per_year_division"
   ]
  },
  {
   "cell_type": "code",
   "execution_count": 21,
   "id": "64c797b0-5109-45bd-ad9e-258b7f8ee23e",
   "metadata": {},
   "outputs": [
    {
     "data": {
      "image/png": "[encoded data removed]",
      "text/plain": [
       "<Figure size 1200x600 with 1 Axes>"
      ]
     },
     "metadata": {},
     "output_type": "display_data"
    }
   ],
   "source": [
    "plt.figure(figsize=(12, 6))\n",
    "sns.lineplot(data=fights_per_year_division, x=\"year\", y=\"num_fights\", hue=\"division\")\n",
    "plt.title(\"Number of fights by weight category over time\")\n",
    "plt.xlabel(\"Year\")\n",
    "plt.ylabel(\"Number of Fights\")\n",
    "plt.legend(title=\"Division\", bbox_to_anchor=(1.05, 1), loc='upper left')\n",
    "plt.tight_layout()\n",
    "plt.show()\n"
   ]
  },
  {
   "cell_type": "markdown",
   "id": "0208893a-a9ec-41bb-9bac-c40707016a1c",
   "metadata": {},
   "source": [
    "## General fight statistics"
   ]
  },
  {
   "cell_type": "markdown",
   "id": "90747b7b-5293-4ef2-9f71-628f575e20c8",
   "metadata": {},
   "source": [
    "### Ratio of wins by knockout, submission, and decision"
   ]
  },
  {
   "cell_type": "code",
   "execution_count": 22,
   "id": "0a4a0915-87d0-4d2b-b10c-ffe9fe89b175",
   "metadata": {},
   "outputs": [
    {
     "data": {
      "text/plain": [
       "method\n",
       "Decision - Unanimous       2926\n",
       "KO/TKO                     2524\n",
       "Submission                 1532\n",
       "Decision - Split            784\n",
       "Decision - Majority          95\n",
       "TKO - Doctor's Stoppage      92\n",
       "Overturned                   57\n",
       "Could Not Continue           30\n",
       "DQ                           23\n",
       "Name: count, dtype: int64"
      ]
     },
     "execution_count": 22,
     "metadata": {},
     "output_type": "execute_result"
    }
   ],
   "source": [
    "methods = filtered_raw_fight_details[\"method\"]\n",
    "methods.value_counts()"
   ]
  },
  {
   "cell_type": "code",
   "execution_count": 23,
   "id": "2c2ec721-0994-4ee1-ae67-7e205c41f561",
   "metadata": {},
   "outputs": [],
   "source": [
    "ko_submission_decision_methods = filtered_raw_fight_details[\n",
    "    filtered_raw_fight_details[\"method\"].str.contains(\"KO/TKO|Submission|Decision\", na=False)\n",
    "]"
   ]
  },
  {
   "cell_type": "code",
   "execution_count": 24,
   "id": "4ef227e9-5eac-4ddf-bcb5-9c0b90ccf357",
   "metadata": {},
   "outputs": [
    {
     "data": {
      "text/plain": [
       "method\n",
       "Decision - Unanimous    2926\n",
       "KO/TKO                  2524\n",
       "Submission              1532\n",
       "Decision - Split         784\n",
       "Decision - Majority       95\n",
       "Name: count, dtype: int64"
      ]
     },
     "execution_count": 24,
     "metadata": {},
     "output_type": "execute_result"
    }
   ],
   "source": [
    "ko_submission_decision_methods[\"method\"].value_counts()"
   ]
  },
  {
   "cell_type": "markdown",
   "id": "eaa393b8-d2ce-45a2-b49c-9d1090e52d03",
   "metadata": {},
   "source": [
    "#### Groupping decision method variations"
   ]
  },
  {
   "cell_type": "code",
   "execution_count": 25,
   "id": "c2a84094-0b60-4bff-9a7c-7d74f5682573",
   "metadata": {},
   "outputs": [
    {
     "name": "stderr",
     "output_type": "stream",
     "text": [
      "/var/folders/y2/th9j6g7n1wgghjg95sgj0cqr0000gq/T/ipykernel_3905/113718741.py:1: SettingWithCopyWarning: \n",
      "A value is trying to be set on a copy of a slice from a DataFrame.\n",
      "Try using .loc[row_indexer,col_indexer] = value instead\n",
      "\n",
      "See the caveats in the documentation: https://pandas.pydata.org/pandas-docs/stable/user_guide/indexing.html#returning-a-view-versus-a-copy\n",
      "  ko_submission_decision_methods[\"method_grouped\"] = np.where(\n"
     ]
    }
   ],
   "source": [
    "ko_submission_decision_methods[\"method_grouped\"] = np.where(\n",
    "    ko_submission_decision_methods[\"method\"].str.contains(\"Decision\", na=False),\n",
    "    \"Decision\",\n",
    "    ko_submission_decision_methods[\"method\"]\n",
    ")"
   ]
  },
  {
   "cell_type": "code",
   "execution_count": 26,
   "id": "972d0b2d-d8c7-4fb5-961d-e1c4309665a9",
   "metadata": {},
   "outputs": [
    {
     "data": {
      "text/plain": [
       "method_grouped\n",
       "Decision      3805\n",
       "KO/TKO        2524\n",
       "Submission    1532\n",
       "Name: count, dtype: int64"
      ]
     },
     "execution_count": 26,
     "metadata": {},
     "output_type": "execute_result"
    }
   ],
   "source": [
    "ko_submission_decision_methods[\"method_grouped\"].value_counts()"
   ]
  },
  {
   "cell_type": "markdown",
   "id": "d4827125-c26b-47bb-9ef4-2e37450c1943",
   "metadata": {},
   "source": [
    "### Average duration of fights by category"
   ]
  },
  {
   "cell_type": "code",
   "execution_count": 27,
   "id": "5293f5e7-f33d-47e3-8fe9-ebca0c90069d",
   "metadata": {},
   "outputs": [],
   "source": [
    "avg_duration_per_division = filtered_raw_fight_details.groupby(\"division\")[\"match_time_sec\"].mean().sort_values(ascending=False)"
   ]
  },
  {
   "cell_type": "code",
   "execution_count": 28,
   "id": "1f19f62c-9cc1-40f1-8868-fc2539c67b84",
   "metadata": {},
   "outputs": [
    {
     "data": {
      "text/plain": [
       "division\n",
       "interim middleweight     300.000000\n",
       "interim welterweight     298.000000\n",
       "interim featherweight    286.500000\n",
       "super heavyweight        274.000000\n",
       "interim flyweight        274.000000\n",
       "women's flyweight        260.342412\n",
       "women's strawweight      256.167155\n",
       "interim lightweight      253.666667\n",
       "women's featherweight    250.724138\n",
       "women's bantamweight     247.694690\n",
       "flyweight                242.957672\n",
       "catch weight             242.527778\n",
       "bantamweight             234.779473\n",
       "featherweight            234.408010\n",
       "welterweight             228.450376\n",
       "lightweight              227.752174\n",
       "interim bantamweight     218.000000\n",
       "middleweight             217.879812\n",
       "light heavyweight        209.945607\n",
       "heavyweight              203.719834\n",
       "interim heavyweight      139.333333\n",
       "Name: match_time_sec, dtype: float64"
      ]
     },
     "execution_count": 28,
     "metadata": {},
     "output_type": "execute_result"
    }
   ],
   "source": [
    "avg_duration_per_division"
   ]
  },
  {
   "cell_type": "code",
   "execution_count": 29,
   "id": "5e3daa94-60c7-4778-b1ca-d046af819aba",
   "metadata": {},
   "outputs": [],
   "source": [
    "humanized = avg_duration_per_division.apply(lambda x: human_readable_duration(int(x)))"
   ]
  },
  {
   "cell_type": "code",
   "execution_count": 30,
   "id": "5adba405-9964-4455-b507-dabfb76822cf",
   "metadata": {},
   "outputs": [
    {
     "name": "stdout",
     "output_type": "stream",
     "text": [
      "interim middleweight: 5 minutes\n",
      "interim welterweight: 4 minutes\n",
      "interim featherweight: 4 minutes\n",
      "super heavyweight: 4 minutes\n",
      "interim flyweight: 4 minutes\n",
      "women's flyweight: 4 minutes\n",
      "women's strawweight: 4 minutes\n",
      "interim lightweight: 4 minutes\n",
      "women's featherweight: 4 minutes\n",
      "women's bantamweight: 4 minutes\n",
      "flyweight: 4 minutes\n",
      "catch weight: 4 minutes\n",
      "bantamweight: 3 minutes\n",
      "featherweight: 3 minutes\n",
      "welterweight: 3 minutes\n",
      "lightweight: 3 minutes\n",
      "interim bantamweight: 3 minutes\n",
      "middleweight: 3 minutes\n",
      "light heavyweight: 3 minutes\n",
      "heavyweight: 3 minutes\n",
      "interim heavyweight: 2 minutes\n"
     ]
    }
   ],
   "source": [
    "for division, duration in humanized.items():\n",
    "    print(f\"{division}: {duration}\")"
   ]
  },
  {
   "cell_type": "markdown",
   "id": "1dec0834-d4fb-44fb-a596-bd8f9aef2f33",
   "metadata": {},
   "source": [
    "### Most common submission techniques"
   ]
  },
  {
   "cell_type": "markdown",
   "id": "ca831aaa-305e-4d1b-bb2b-8f33ccff10c1",
   "metadata": {},
   "source": [
    "> Although the initial objective included analyzing the most common submission techniques, the dataset used does not specify the type of submission (e.g., rear naked choke, triangle choke, kimura). Therefore, this analysis could not be performed with the available data."
   ]
  },
  {
   "cell_type": "markdown",
   "id": "1a1ef5b3-f925-482c-86a2-3656fb3f2b07",
   "metadata": {},
   "source": [
    "### Average strikes per minute and per round"
   ]
  },
  {
   "cell_type": "code",
   "execution_count": 31,
   "id": "af478825-59a0-4552-9041-765588255827",
   "metadata": {
    "scrolled": true
   },
   "outputs": [
    {
     "data": {
      "text/html": [
       "<div>\n",
       "<style scoped>\n",
       "    .dataframe tbody tr th:only-of-type {\n",
       "        vertical-align: middle;\n",
       "    }\n",
       "\n",
       "    .dataframe tbody tr th {\n",
       "        vertical-align: top;\n",
       "    }\n",
       "\n",
       "    .dataframe thead th {\n",
       "        text-align: right;\n",
       "    }\n",
       "</style>\n",
       "<table border=\"1\" class=\"dataframe\">\n",
       "  <thead>\n",
       "    <tr style=\"text-align: right;\">\n",
       "      <th></th>\n",
       "      <th>event_id</th>\n",
       "      <th>event_name</th>\n",
       "      <th>date</th>\n",
       "      <th>location</th>\n",
       "      <th>fight_id</th>\n",
       "      <th>division</th>\n",
       "      <th>title_fight</th>\n",
       "      <th>method</th>\n",
       "      <th>finish_round</th>\n",
       "      <th>match_time_sec</th>\n",
       "      <th>...</th>\n",
       "      <th>b_splm</th>\n",
       "      <th>b_str_acc</th>\n",
       "      <th>b_sapm</th>\n",
       "      <th>b_str_def</th>\n",
       "      <th>b_td_avg</th>\n",
       "      <th>b_td_avg_acc</th>\n",
       "      <th>b_td_def</th>\n",
       "      <th>b_sub_avg</th>\n",
       "      <th>winner</th>\n",
       "      <th>winner_id</th>\n",
       "    </tr>\n",
       "  </thead>\n",
       "  <tbody>\n",
       "    <tr>\n",
       "      <th>0</th>\n",
       "      <td>400c7b43c86d27d3</td>\n",
       "      <td>UFC Fight Night: Hill vs. Rountree Jr.</td>\n",
       "      <td>2025-06-21</td>\n",
       "      <td>Baku, Azerbaijan</td>\n",
       "      <td>36ec204f47e4d613</td>\n",
       "      <td>catch weight</td>\n",
       "      <td>0</td>\n",
       "      <td>Submission</td>\n",
       "      <td>1</td>\n",
       "      <td>275</td>\n",
       "      <td>...</td>\n",
       "      <td>3.11</td>\n",
       "      <td>48</td>\n",
       "      <td>3.08</td>\n",
       "      <td>50</td>\n",
       "      <td>5.82</td>\n",
       "      <td>45</td>\n",
       "      <td>40</td>\n",
       "      <td>0.7</td>\n",
       "      <td>Myktybek Orolbai</td>\n",
       "      <td>bf2c8e01b07d3eb1</td>\n",
       "    </tr>\n",
       "    <tr>\n",
       "      <th>1</th>\n",
       "      <td>400c7b43c86d27d3</td>\n",
       "      <td>UFC Fight Night: Hill vs. Rountree Jr.</td>\n",
       "      <td>2025-06-21</td>\n",
       "      <td>Baku, Azerbaijan</td>\n",
       "      <td>a1afc16e21d1a807</td>\n",
       "      <td>lightweight</td>\n",
       "      <td>0</td>\n",
       "      <td>Decision - Unanimous</td>\n",
       "      <td>3</td>\n",
       "      <td>300</td>\n",
       "      <td>...</td>\n",
       "      <td>6.55</td>\n",
       "      <td>45</td>\n",
       "      <td>4.33</td>\n",
       "      <td>56</td>\n",
       "      <td>0.00</td>\n",
       "      <td>0</td>\n",
       "      <td>75</td>\n",
       "      <td>0.4</td>\n",
       "      <td>Rafael Fiziev</td>\n",
       "      <td>c814b4c899793af6</td>\n",
       "    </tr>\n",
       "    <tr>\n",
       "      <th>2</th>\n",
       "      <td>400c7b43c86d27d3</td>\n",
       "      <td>UFC Fight Night: Hill vs. Rountree Jr.</td>\n",
       "      <td>2025-06-21</td>\n",
       "      <td>Baku, Azerbaijan</td>\n",
       "      <td>7513a00037094075</td>\n",
       "      <td>lightweight</td>\n",
       "      <td>0</td>\n",
       "      <td>KO/TKO</td>\n",
       "      <td>2</td>\n",
       "      <td>257</td>\n",
       "      <td>...</td>\n",
       "      <td>4.13</td>\n",
       "      <td>38</td>\n",
       "      <td>5.28</td>\n",
       "      <td>52</td>\n",
       "      <td>0.00</td>\n",
       "      <td>0</td>\n",
       "      <td>83</td>\n",
       "      <td>0.0</td>\n",
       "      <td>Nazim Sadykhov</td>\n",
       "      <td>ff62013d2fce6d13</td>\n",
       "    </tr>\n",
       "    <tr>\n",
       "      <th>3</th>\n",
       "      <td>400c7b43c86d27d3</td>\n",
       "      <td>UFC Fight Night: Hill vs. Rountree Jr.</td>\n",
       "      <td>2025-06-21</td>\n",
       "      <td>Baku, Azerbaijan</td>\n",
       "      <td>e512b80bbaea36c2</td>\n",
       "      <td>welterweight</td>\n",
       "      <td>0</td>\n",
       "      <td>Decision - Unanimous</td>\n",
       "      <td>3</td>\n",
       "      <td>300</td>\n",
       "      <td>...</td>\n",
       "      <td>3.50</td>\n",
       "      <td>48</td>\n",
       "      <td>2.24</td>\n",
       "      <td>60</td>\n",
       "      <td>1.70</td>\n",
       "      <td>44</td>\n",
       "      <td>55</td>\n",
       "      <td>0.0</td>\n",
       "      <td>Seokhyeon Ko</td>\n",
       "      <td>4a07b1988477502c</td>\n",
       "    </tr>\n",
       "    <tr>\n",
       "      <th>4</th>\n",
       "      <td>400c7b43c86d27d3</td>\n",
       "      <td>UFC Fight Night: Hill vs. Rountree Jr.</td>\n",
       "      <td>2025-06-21</td>\n",
       "      <td>Baku, Azerbaijan</td>\n",
       "      <td>03bc32bdb5a33496</td>\n",
       "      <td>light heavyweight</td>\n",
       "      <td>0</td>\n",
       "      <td>Decision - Unanimous</td>\n",
       "      <td>5</td>\n",
       "      <td>300</td>\n",
       "      <td>...</td>\n",
       "      <td>3.79</td>\n",
       "      <td>40</td>\n",
       "      <td>4.24</td>\n",
       "      <td>49</td>\n",
       "      <td>0.00</td>\n",
       "      <td>0</td>\n",
       "      <td>58</td>\n",
       "      <td>0.1</td>\n",
       "      <td>Khalil Rountree Jr.</td>\n",
       "      <td>749f572d1d3161fb</td>\n",
       "    </tr>\n",
       "  </tbody>\n",
       "</table>\n",
       "<p>5 rows × 124 columns</p>\n",
       "</div>"
      ],
      "text/plain": [
       "           event_id                              event_name       date  \\\n",
       "0  400c7b43c86d27d3  UFC Fight Night: Hill vs. Rountree Jr. 2025-06-21   \n",
       "1  400c7b43c86d27d3  UFC Fight Night: Hill vs. Rountree Jr. 2025-06-21   \n",
       "2  400c7b43c86d27d3  UFC Fight Night: Hill vs. Rountree Jr. 2025-06-21   \n",
       "3  400c7b43c86d27d3  UFC Fight Night: Hill vs. Rountree Jr. 2025-06-21   \n",
       "4  400c7b43c86d27d3  UFC Fight Night: Hill vs. Rountree Jr. 2025-06-21   \n",
       "\n",
       "           location          fight_id           division  title_fight  \\\n",
       "0  Baku, Azerbaijan  36ec204f47e4d613       catch weight            0   \n",
       "1  Baku, Azerbaijan  a1afc16e21d1a807        lightweight            0   \n",
       "2  Baku, Azerbaijan  7513a00037094075        lightweight            0   \n",
       "3  Baku, Azerbaijan  e512b80bbaea36c2       welterweight            0   \n",
       "4  Baku, Azerbaijan  03bc32bdb5a33496  light heavyweight            0   \n",
       "\n",
       "                 method  finish_round  match_time_sec  ...  b_splm b_str_acc  \\\n",
       "0            Submission             1             275  ...    3.11        48   \n",
       "1  Decision - Unanimous             3             300  ...    6.55        45   \n",
       "2                KO/TKO             2             257  ...    4.13        38   \n",
       "3  Decision - Unanimous             3             300  ...    3.50        48   \n",
       "4  Decision - Unanimous             5             300  ...    3.79        40   \n",
       "\n",
       "  b_sapm b_str_def  b_td_avg  b_td_avg_acc  b_td_def  b_sub_avg  \\\n",
       "0   3.08        50      5.82            45        40        0.7   \n",
       "1   4.33        56      0.00             0        75        0.4   \n",
       "2   5.28        52      0.00             0        83        0.0   \n",
       "3   2.24        60      1.70            44        55        0.0   \n",
       "4   4.24        49      0.00             0        58        0.1   \n",
       "\n",
       "                winner         winner_id  \n",
       "0     Myktybek Orolbai  bf2c8e01b07d3eb1  \n",
       "1        Rafael Fiziev  c814b4c899793af6  \n",
       "2       Nazim Sadykhov  ff62013d2fce6d13  \n",
       "3         Seokhyeon Ko  4a07b1988477502c  \n",
       "4  Khalil Rountree Jr.  749f572d1d3161fb  \n",
       "\n",
       "[5 rows x 124 columns]"
      ]
     },
     "execution_count": 31,
     "metadata": {},
     "output_type": "execute_result"
    }
   ],
   "source": [
    "raw_ufc_details.head(5)"
   ]
  },
  {
   "cell_type": "markdown",
   "id": "06dea50b-13e4-467f-99e4-c29b2a81cbd2",
   "metadata": {},
   "source": [
    "#### Average strikes per minute"
   ]
  },
  {
   "cell_type": "markdown",
   "id": "eb44cc74-4923-4802-9efe-1f4b2f30c3f1",
   "metadata": {},
   "source": [
    "The main formula to calculate this is \n",
    "\n",
    "total strikes landed / (match_time_sec / 60)\n",
    "\n",
    "for this metric I'll consider only complete fights, or, fights that last more than 300 sec or 5 min"
   ]
  },
  {
   "cell_type": "code",
   "execution_count": 32,
   "id": "8a00f5f3-ddf9-4928-bd57-5af97650f150",
   "metadata": {},
   "outputs": [],
   "source": [
    "avg_strikes_per_min_ckp = raw_ufc_details.copy()\n",
    "avg_strikes_per_min_ckp = avg_strikes_per_min_ckp[\n",
    "    avg_strikes_per_min_ckp[\"match_time_sec\"] > 300\n",
    "]"
   ]
  },
  {
   "cell_type": "code",
   "execution_count": 33,
   "id": "f8a88a03-8fa2-4b91-ab51-794e723294b3",
   "metadata": {},
   "outputs": [],
   "source": [
    "avg_strikes_per_min_ckp[\"avg_str_min\"] = (avg_strikes_per_min_ckp[\"b_total_str_landed\"] + avg_strikes_per_min_ckp[\"r_total_str_landed\"]) / (avg_strikes_per_min_ckp[\"match_time_sec\"] / 60) "
   ]
  },
  {
   "cell_type": "code",
   "execution_count": 34,
   "id": "70f42062-a094-4f30-b109-9bc345f6c91d",
   "metadata": {},
   "outputs": [
    {
     "data": {
      "text/html": [
       "<div>\n",
       "<style scoped>\n",
       "    .dataframe tbody tr th:only-of-type {\n",
       "        vertical-align: middle;\n",
       "    }\n",
       "\n",
       "    .dataframe tbody tr th {\n",
       "        vertical-align: top;\n",
       "    }\n",
       "\n",
       "    .dataframe thead th {\n",
       "        text-align: right;\n",
       "    }\n",
       "</style>\n",
       "<table border=\"1\" class=\"dataframe\">\n",
       "  <thead>\n",
       "    <tr style=\"text-align: right;\">\n",
       "      <th></th>\n",
       "      <th>event_id</th>\n",
       "      <th>event_name</th>\n",
       "      <th>date</th>\n",
       "      <th>location</th>\n",
       "      <th>fight_id</th>\n",
       "      <th>division</th>\n",
       "      <th>title_fight</th>\n",
       "      <th>method</th>\n",
       "      <th>finish_round</th>\n",
       "      <th>match_time_sec</th>\n",
       "      <th>...</th>\n",
       "      <th>b_str_acc</th>\n",
       "      <th>b_sapm</th>\n",
       "      <th>b_str_def</th>\n",
       "      <th>b_td_avg</th>\n",
       "      <th>b_td_avg_acc</th>\n",
       "      <th>b_td_def</th>\n",
       "      <th>b_sub_avg</th>\n",
       "      <th>winner</th>\n",
       "      <th>winner_id</th>\n",
       "      <th>avg_str_min</th>\n",
       "    </tr>\n",
       "  </thead>\n",
       "  <tbody>\n",
       "    <tr>\n",
       "      <th>8050</th>\n",
       "      <td>a7b48e18ca27795d</td>\n",
       "      <td>UFC 20: Battle for the Gold</td>\n",
       "      <td>1999-05-07</td>\n",
       "      <td>Birmingham, Alabama, USA</td>\n",
       "      <td>a3fe8217502c42a4</td>\n",
       "      <td>heavyweight</td>\n",
       "      <td>0</td>\n",
       "      <td>Submission</td>\n",
       "      <td>1</td>\n",
       "      <td>388</td>\n",
       "      <td>...</td>\n",
       "      <td>0</td>\n",
       "      <td>0.00</td>\n",
       "      <td>0</td>\n",
       "      <td>0.00</td>\n",
       "      <td>0</td>\n",
       "      <td>0</td>\n",
       "      <td>0.0</td>\n",
       "      <td>Pete Williams</td>\n",
       "      <td>6291ac0a3726732f</td>\n",
       "      <td>6.185567</td>\n",
       "    </tr>\n",
       "    <tr>\n",
       "      <th>8060</th>\n",
       "      <td>c9bbf1a0285a8076</td>\n",
       "      <td>UFC 18: The Road to the Heavyweight Title</td>\n",
       "      <td>1999-01-08</td>\n",
       "      <td>New Orleans, Louisiana, USA</td>\n",
       "      <td>fb8e8d1a734b6fe8</td>\n",
       "      <td>middleweight</td>\n",
       "      <td>0</td>\n",
       "      <td>Submission</td>\n",
       "      <td>1</td>\n",
       "      <td>477</td>\n",
       "      <td>...</td>\n",
       "      <td>0</td>\n",
       "      <td>0.00</td>\n",
       "      <td>0</td>\n",
       "      <td>0.00</td>\n",
       "      <td>0</td>\n",
       "      <td>0</td>\n",
       "      <td>0.0</td>\n",
       "      <td>Evan Tanner</td>\n",
       "      <td>8f2d9ee27f206f1f</td>\n",
       "      <td>6.918239</td>\n",
       "    </tr>\n",
       "    <tr>\n",
       "      <th>8061</th>\n",
       "      <td>c9bbf1a0285a8076</td>\n",
       "      <td>UFC 18: The Road to the Heavyweight Title</td>\n",
       "      <td>1999-01-08</td>\n",
       "      <td>New Orleans, Louisiana, USA</td>\n",
       "      <td>0cf7636471fc5e45</td>\n",
       "      <td>lightweight</td>\n",
       "      <td>0</td>\n",
       "      <td>KO/TKO</td>\n",
       "      <td>1</td>\n",
       "      <td>412</td>\n",
       "      <td>...</td>\n",
       "      <td>0</td>\n",
       "      <td>0.00</td>\n",
       "      <td>0</td>\n",
       "      <td>0.00</td>\n",
       "      <td>0</td>\n",
       "      <td>0</td>\n",
       "      <td>0.0</td>\n",
       "      <td>Laverne Clark</td>\n",
       "      <td>1c2f2571b18791b6</td>\n",
       "      <td>5.097087</td>\n",
       "    </tr>\n",
       "    <tr>\n",
       "      <th>8062</th>\n",
       "      <td>32a3025d5db456ae</td>\n",
       "      <td>UFC - Ultimate Brazil</td>\n",
       "      <td>1998-10-16</td>\n",
       "      <td>Sao Paulo, Brazil</td>\n",
       "      <td>c8a04210d832a928</td>\n",
       "      <td>light heavyweight</td>\n",
       "      <td>1</td>\n",
       "      <td>Submission</td>\n",
       "      <td>1</td>\n",
       "      <td>460</td>\n",
       "      <td>...</td>\n",
       "      <td>0</td>\n",
       "      <td>0.00</td>\n",
       "      <td>0</td>\n",
       "      <td>0.00</td>\n",
       "      <td>0</td>\n",
       "      <td>0</td>\n",
       "      <td>0.0</td>\n",
       "      <td>Frank Shamrock</td>\n",
       "      <td>fcaae0385b514f11</td>\n",
       "      <td>8.608696</td>\n",
       "    </tr>\n",
       "    <tr>\n",
       "      <th>8064</th>\n",
       "      <td>32a3025d5db456ae</td>\n",
       "      <td>UFC - Ultimate Brazil</td>\n",
       "      <td>1998-10-16</td>\n",
       "      <td>Sao Paulo, Brazil</td>\n",
       "      <td>f85bbc760000f001</td>\n",
       "      <td>heavyweight</td>\n",
       "      <td>0</td>\n",
       "      <td>KO/TKO</td>\n",
       "      <td>1</td>\n",
       "      <td>487</td>\n",
       "      <td>...</td>\n",
       "      <td>30</td>\n",
       "      <td>3.55</td>\n",
       "      <td>38</td>\n",
       "      <td>1.07</td>\n",
       "      <td>33</td>\n",
       "      <td>66</td>\n",
       "      <td>0.0</td>\n",
       "      <td>Pedro Rizzo</td>\n",
       "      <td>b44f39a5c6596953</td>\n",
       "      <td>9.856263</td>\n",
       "    </tr>\n",
       "  </tbody>\n",
       "</table>\n",
       "<p>5 rows × 125 columns</p>\n",
       "</div>"
      ],
      "text/plain": [
       "              event_id                                 event_name       date  \\\n",
       "8050  a7b48e18ca27795d                UFC 20: Battle for the Gold 1999-05-07   \n",
       "8060  c9bbf1a0285a8076  UFC 18: The Road to the Heavyweight Title 1999-01-08   \n",
       "8061  c9bbf1a0285a8076  UFC 18: The Road to the Heavyweight Title 1999-01-08   \n",
       "8062  32a3025d5db456ae                      UFC - Ultimate Brazil 1998-10-16   \n",
       "8064  32a3025d5db456ae                      UFC - Ultimate Brazil 1998-10-16   \n",
       "\n",
       "                         location          fight_id           division  \\\n",
       "8050     Birmingham, Alabama, USA  a3fe8217502c42a4        heavyweight   \n",
       "8060  New Orleans, Louisiana, USA  fb8e8d1a734b6fe8       middleweight   \n",
       "8061  New Orleans, Louisiana, USA  0cf7636471fc5e45        lightweight   \n",
       "8062            Sao Paulo, Brazil  c8a04210d832a928  light heavyweight   \n",
       "8064            Sao Paulo, Brazil  f85bbc760000f001        heavyweight   \n",
       "\n",
       "      title_fight      method  finish_round  match_time_sec  ...  b_str_acc  \\\n",
       "8050            0  Submission             1             388  ...          0   \n",
       "8060            0  Submission             1             477  ...          0   \n",
       "8061            0      KO/TKO             1             412  ...          0   \n",
       "8062            1  Submission             1             460  ...          0   \n",
       "8064            0      KO/TKO             1             487  ...         30   \n",
       "\n",
       "     b_sapm b_str_def b_td_avg  b_td_avg_acc  b_td_def  b_sub_avg  \\\n",
       "8050   0.00         0     0.00             0         0        0.0   \n",
       "8060   0.00         0     0.00             0         0        0.0   \n",
       "8061   0.00         0     0.00             0         0        0.0   \n",
       "8062   0.00         0     0.00             0         0        0.0   \n",
       "8064   3.55        38     1.07            33        66        0.0   \n",
       "\n",
       "              winner         winner_id  avg_str_min  \n",
       "8050   Pete Williams  6291ac0a3726732f     6.185567  \n",
       "8060     Evan Tanner  8f2d9ee27f206f1f     6.918239  \n",
       "8061   Laverne Clark  1c2f2571b18791b6     5.097087  \n",
       "8062  Frank Shamrock  fcaae0385b514f11     8.608696  \n",
       "8064     Pedro Rizzo  b44f39a5c6596953     9.856263  \n",
       "\n",
       "[5 rows x 125 columns]"
      ]
     },
     "execution_count": 34,
     "metadata": {},
     "output_type": "execute_result"
    }
   ],
   "source": [
    "avg_strikes_per_min_ckp.head(5)"
   ]
  },
  {
   "cell_type": "markdown",
   "id": "35a3fa27-e180-48bc-b0c5-a6d45ebed85f",
   "metadata": {},
   "source": [
    "#### Average strikes per round"
   ]
  },
  {
   "cell_type": "markdown",
   "id": "d2a46e08-534c-49f8-822a-38627bba580c",
   "metadata": {},
   "source": [
    "The main formula to calculate this is \n",
    "\n",
    "total strikes landed / total_rounds\n",
    "\n",
    "for this metric I'll consider only complete fights, or, fights that last more than than 300 sec or 5 min"
   ]
  },
  {
   "cell_type": "code",
   "execution_count": 35,
   "id": "58e17f49-4b91-4cc3-a45f-e615f2b2f18c",
   "metadata": {},
   "outputs": [],
   "source": [
    "avg_strikes_per_min_ckp[\"avg_str_rnd\"] = (avg_strikes_per_min_ckp[\"b_total_str_landed\"] + avg_strikes_per_min_ckp[\"r_total_str_landed\"]) /  avg_strikes_per_min_ckp[\"finish_round\"]"
   ]
  },
  {
   "cell_type": "code",
   "execution_count": 36,
   "id": "3af68c86-cbd8-421b-b13f-a200e2a73499",
   "metadata": {
    "scrolled": true
   },
   "outputs": [
    {
     "data": {
      "text/html": [
       "<div>\n",
       "<style scoped>\n",
       "    .dataframe tbody tr th:only-of-type {\n",
       "        vertical-align: middle;\n",
       "    }\n",
       "\n",
       "    .dataframe tbody tr th {\n",
       "        vertical-align: top;\n",
       "    }\n",
       "\n",
       "    .dataframe thead th {\n",
       "        text-align: right;\n",
       "    }\n",
       "</style>\n",
       "<table border=\"1\" class=\"dataframe\">\n",
       "  <thead>\n",
       "    <tr style=\"text-align: right;\">\n",
       "      <th></th>\n",
       "      <th>event_id</th>\n",
       "      <th>event_name</th>\n",
       "      <th>date</th>\n",
       "      <th>location</th>\n",
       "      <th>fight_id</th>\n",
       "      <th>division</th>\n",
       "      <th>title_fight</th>\n",
       "      <th>method</th>\n",
       "      <th>finish_round</th>\n",
       "      <th>match_time_sec</th>\n",
       "      <th>...</th>\n",
       "      <th>b_sapm</th>\n",
       "      <th>b_str_def</th>\n",
       "      <th>b_td_avg</th>\n",
       "      <th>b_td_avg_acc</th>\n",
       "      <th>b_td_def</th>\n",
       "      <th>b_sub_avg</th>\n",
       "      <th>winner</th>\n",
       "      <th>winner_id</th>\n",
       "      <th>avg_str_min</th>\n",
       "      <th>avg_str_rnd</th>\n",
       "    </tr>\n",
       "  </thead>\n",
       "  <tbody>\n",
       "    <tr>\n",
       "      <th>8050</th>\n",
       "      <td>a7b48e18ca27795d</td>\n",
       "      <td>UFC 20: Battle for the Gold</td>\n",
       "      <td>1999-05-07</td>\n",
       "      <td>Birmingham, Alabama, USA</td>\n",
       "      <td>a3fe8217502c42a4</td>\n",
       "      <td>heavyweight</td>\n",
       "      <td>0</td>\n",
       "      <td>Submission</td>\n",
       "      <td>1</td>\n",
       "      <td>388</td>\n",
       "      <td>...</td>\n",
       "      <td>0.00</td>\n",
       "      <td>0</td>\n",
       "      <td>0.00</td>\n",
       "      <td>0</td>\n",
       "      <td>0</td>\n",
       "      <td>0.0</td>\n",
       "      <td>Pete Williams</td>\n",
       "      <td>6291ac0a3726732f</td>\n",
       "      <td>6.185567</td>\n",
       "      <td>40.0</td>\n",
       "    </tr>\n",
       "    <tr>\n",
       "      <th>8060</th>\n",
       "      <td>c9bbf1a0285a8076</td>\n",
       "      <td>UFC 18: The Road to the Heavyweight Title</td>\n",
       "      <td>1999-01-08</td>\n",
       "      <td>New Orleans, Louisiana, USA</td>\n",
       "      <td>fb8e8d1a734b6fe8</td>\n",
       "      <td>middleweight</td>\n",
       "      <td>0</td>\n",
       "      <td>Submission</td>\n",
       "      <td>1</td>\n",
       "      <td>477</td>\n",
       "      <td>...</td>\n",
       "      <td>0.00</td>\n",
       "      <td>0</td>\n",
       "      <td>0.00</td>\n",
       "      <td>0</td>\n",
       "      <td>0</td>\n",
       "      <td>0.0</td>\n",
       "      <td>Evan Tanner</td>\n",
       "      <td>8f2d9ee27f206f1f</td>\n",
       "      <td>6.918239</td>\n",
       "      <td>55.0</td>\n",
       "    </tr>\n",
       "    <tr>\n",
       "      <th>8061</th>\n",
       "      <td>c9bbf1a0285a8076</td>\n",
       "      <td>UFC 18: The Road to the Heavyweight Title</td>\n",
       "      <td>1999-01-08</td>\n",
       "      <td>New Orleans, Louisiana, USA</td>\n",
       "      <td>0cf7636471fc5e45</td>\n",
       "      <td>lightweight</td>\n",
       "      <td>0</td>\n",
       "      <td>KO/TKO</td>\n",
       "      <td>1</td>\n",
       "      <td>412</td>\n",
       "      <td>...</td>\n",
       "      <td>0.00</td>\n",
       "      <td>0</td>\n",
       "      <td>0.00</td>\n",
       "      <td>0</td>\n",
       "      <td>0</td>\n",
       "      <td>0.0</td>\n",
       "      <td>Laverne Clark</td>\n",
       "      <td>1c2f2571b18791b6</td>\n",
       "      <td>5.097087</td>\n",
       "      <td>35.0</td>\n",
       "    </tr>\n",
       "    <tr>\n",
       "      <th>8062</th>\n",
       "      <td>32a3025d5db456ae</td>\n",
       "      <td>UFC - Ultimate Brazil</td>\n",
       "      <td>1998-10-16</td>\n",
       "      <td>Sao Paulo, Brazil</td>\n",
       "      <td>c8a04210d832a928</td>\n",
       "      <td>light heavyweight</td>\n",
       "      <td>1</td>\n",
       "      <td>Submission</td>\n",
       "      <td>1</td>\n",
       "      <td>460</td>\n",
       "      <td>...</td>\n",
       "      <td>0.00</td>\n",
       "      <td>0</td>\n",
       "      <td>0.00</td>\n",
       "      <td>0</td>\n",
       "      <td>0</td>\n",
       "      <td>0.0</td>\n",
       "      <td>Frank Shamrock</td>\n",
       "      <td>fcaae0385b514f11</td>\n",
       "      <td>8.608696</td>\n",
       "      <td>66.0</td>\n",
       "    </tr>\n",
       "    <tr>\n",
       "      <th>8064</th>\n",
       "      <td>32a3025d5db456ae</td>\n",
       "      <td>UFC - Ultimate Brazil</td>\n",
       "      <td>1998-10-16</td>\n",
       "      <td>Sao Paulo, Brazil</td>\n",
       "      <td>f85bbc760000f001</td>\n",
       "      <td>heavyweight</td>\n",
       "      <td>0</td>\n",
       "      <td>KO/TKO</td>\n",
       "      <td>1</td>\n",
       "      <td>487</td>\n",
       "      <td>...</td>\n",
       "      <td>3.55</td>\n",
       "      <td>38</td>\n",
       "      <td>1.07</td>\n",
       "      <td>33</td>\n",
       "      <td>66</td>\n",
       "      <td>0.0</td>\n",
       "      <td>Pedro Rizzo</td>\n",
       "      <td>b44f39a5c6596953</td>\n",
       "      <td>9.856263</td>\n",
       "      <td>80.0</td>\n",
       "    </tr>\n",
       "  </tbody>\n",
       "</table>\n",
       "<p>5 rows × 126 columns</p>\n",
       "</div>"
      ],
      "text/plain": [
       "              event_id                                 event_name       date  \\\n",
       "8050  a7b48e18ca27795d                UFC 20: Battle for the Gold 1999-05-07   \n",
       "8060  c9bbf1a0285a8076  UFC 18: The Road to the Heavyweight Title 1999-01-08   \n",
       "8061  c9bbf1a0285a8076  UFC 18: The Road to the Heavyweight Title 1999-01-08   \n",
       "8062  32a3025d5db456ae                      UFC - Ultimate Brazil 1998-10-16   \n",
       "8064  32a3025d5db456ae                      UFC - Ultimate Brazil 1998-10-16   \n",
       "\n",
       "                         location          fight_id           division  \\\n",
       "8050     Birmingham, Alabama, USA  a3fe8217502c42a4        heavyweight   \n",
       "8060  New Orleans, Louisiana, USA  fb8e8d1a734b6fe8       middleweight   \n",
       "8061  New Orleans, Louisiana, USA  0cf7636471fc5e45        lightweight   \n",
       "8062            Sao Paulo, Brazil  c8a04210d832a928  light heavyweight   \n",
       "8064            Sao Paulo, Brazil  f85bbc760000f001        heavyweight   \n",
       "\n",
       "      title_fight      method  finish_round  match_time_sec  ...  b_sapm  \\\n",
       "8050            0  Submission             1             388  ...    0.00   \n",
       "8060            0  Submission             1             477  ...    0.00   \n",
       "8061            0      KO/TKO             1             412  ...    0.00   \n",
       "8062            1  Submission             1             460  ...    0.00   \n",
       "8064            0      KO/TKO             1             487  ...    3.55   \n",
       "\n",
       "     b_str_def b_td_avg b_td_avg_acc  b_td_def  b_sub_avg          winner  \\\n",
       "8050         0     0.00            0         0        0.0   Pete Williams   \n",
       "8060         0     0.00            0         0        0.0     Evan Tanner   \n",
       "8061         0     0.00            0         0        0.0   Laverne Clark   \n",
       "8062         0     0.00            0         0        0.0  Frank Shamrock   \n",
       "8064        38     1.07           33        66        0.0     Pedro Rizzo   \n",
       "\n",
       "             winner_id  avg_str_min  avg_str_rnd  \n",
       "8050  6291ac0a3726732f     6.185567         40.0  \n",
       "8060  8f2d9ee27f206f1f     6.918239         55.0  \n",
       "8061  1c2f2571b18791b6     5.097087         35.0  \n",
       "8062  fcaae0385b514f11     8.608696         66.0  \n",
       "8064  b44f39a5c6596953     9.856263         80.0  \n",
       "\n",
       "[5 rows x 126 columns]"
      ]
     },
     "execution_count": 36,
     "metadata": {},
     "output_type": "execute_result"
    }
   ],
   "source": [
    "avg_strikes_per_min_ckp.head(5)"
   ]
  },
  {
   "cell_type": "markdown",
   "id": "49e1321e-ffd2-4b57-8f36-1a845e125436",
   "metadata": {},
   "source": [
    "## Fighter Statistics"
   ]
  },
  {
   "cell_type": "markdown",
   "id": "2a7ba33e-c3f2-4411-8f48-d0152b5cab1b",
   "metadata": {},
   "source": [
    "### Top 10 fighters with the most wins"
   ]
  },
  {
   "cell_type": "code",
   "execution_count": 37,
   "id": "10de438c-c141-4fa9-b810-ca7239156b99",
   "metadata": {},
   "outputs": [],
   "source": [
    "top_10_fighters_with_the_most_wins = raw_figther_details.sort_values(by=['wins'], ascending=False).head(10)"
   ]
  },
  {
   "cell_type": "markdown",
   "id": "29c987c5-7419-49fc-803a-fd521462b981",
   "metadata": {},
   "source": [
    "### Fighters with the highest KO rate"
   ]
  },
  {
   "cell_type": "code",
   "execution_count": 38,
   "id": "3e1149fc-eadb-4ca5-a7af-cb922932634f",
   "metadata": {},
   "outputs": [
    {
     "data": {
      "text/html": [
       "<div>\n",
       "<style scoped>\n",
       "    .dataframe tbody tr th:only-of-type {\n",
       "        vertical-align: middle;\n",
       "    }\n",
       "\n",
       "    .dataframe tbody tr th {\n",
       "        vertical-align: top;\n",
       "    }\n",
       "\n",
       "    .dataframe thead th {\n",
       "        text-align: right;\n",
       "    }\n",
       "</style>\n",
       "<table border=\"1\" class=\"dataframe\">\n",
       "  <thead>\n",
       "    <tr style=\"text-align: right;\">\n",
       "      <th></th>\n",
       "      <th>winner</th>\n",
       "      <th>ko_wins</th>\n",
       "      <th>total_wins</th>\n",
       "      <th>ko_rate</th>\n",
       "    </tr>\n",
       "  </thead>\n",
       "  <tbody>\n",
       "    <tr>\n",
       "      <th>68</th>\n",
       "      <td>Anthony Johnson</td>\n",
       "      <td>11</td>\n",
       "      <td>13</td>\n",
       "      <td>0.846154</td>\n",
       "    </tr>\n",
       "    <tr>\n",
       "      <th>141</th>\n",
       "      <td>Cain Velasquez</td>\n",
       "      <td>10</td>\n",
       "      <td>12</td>\n",
       "      <td>0.833333</td>\n",
       "    </tr>\n",
       "    <tr>\n",
       "      <th>344</th>\n",
       "      <td>Francis Ngannou</td>\n",
       "      <td>10</td>\n",
       "      <td>12</td>\n",
       "      <td>0.833333</td>\n",
       "    </tr>\n",
       "    <tr>\n",
       "      <th>272</th>\n",
       "      <td>Derrick Lewis</td>\n",
       "      <td>16</td>\n",
       "      <td>20</td>\n",
       "      <td>0.800000</td>\n",
       "    </tr>\n",
       "    <tr>\n",
       "      <th>1067</th>\n",
       "      <td>Vitor Belfort</td>\n",
       "      <td>12</td>\n",
       "      <td>15</td>\n",
       "      <td>0.800000</td>\n",
       "    </tr>\n",
       "    <tr>\n",
       "      <th>1012</th>\n",
       "      <td>Thiago Santos</td>\n",
       "      <td>11</td>\n",
       "      <td>14</td>\n",
       "      <td>0.785714</td>\n",
       "    </tr>\n",
       "    <tr>\n",
       "      <th>708</th>\n",
       "      <td>Matt Brown</td>\n",
       "      <td>13</td>\n",
       "      <td>17</td>\n",
       "      <td>0.764706</td>\n",
       "    </tr>\n",
       "    <tr>\n",
       "      <th>41</th>\n",
       "      <td>Alistair Overeem</td>\n",
       "      <td>9</td>\n",
       "      <td>12</td>\n",
       "      <td>0.750000</td>\n",
       "    </tr>\n",
       "    <tr>\n",
       "      <th>723</th>\n",
       "      <td>Mauricio Rua</td>\n",
       "      <td>8</td>\n",
       "      <td>11</td>\n",
       "      <td>0.727273</td>\n",
       "    </tr>\n",
       "    <tr>\n",
       "      <th>500</th>\n",
       "      <td>Joaquin Buckley</td>\n",
       "      <td>8</td>\n",
       "      <td>11</td>\n",
       "      <td>0.727273</td>\n",
       "    </tr>\n",
       "  </tbody>\n",
       "</table>\n",
       "</div>"
      ],
      "text/plain": [
       "                winner  ko_wins  total_wins   ko_rate\n",
       "68     Anthony Johnson       11          13  0.846154\n",
       "141     Cain Velasquez       10          12  0.833333\n",
       "344    Francis Ngannou       10          12  0.833333\n",
       "272      Derrick Lewis       16          20  0.800000\n",
       "1067     Vitor Belfort       12          15  0.800000\n",
       "1012     Thiago Santos       11          14  0.785714\n",
       "708         Matt Brown       13          17  0.764706\n",
       "41    Alistair Overeem        9          12  0.750000\n",
       "723       Mauricio Rua        8          11  0.727273\n",
       "500    Joaquin Buckley        8          11  0.727273"
      ]
     },
     "execution_count": 38,
     "metadata": {},
     "output_type": "execute_result"
    }
   ],
   "source": [
    "# filtering fights with a winner\n",
    "\n",
    "df_winners = raw_ufc_details[raw_ufc_details[\"winner\"].notna()].copy()\n",
    "\n",
    "# new column to mark victories as KO/TKO\n",
    "df_winners[\"is_ko\"] = df_winners[\"method\"].str.contains(\"KO\", case=False, na=False)\n",
    "\n",
    "# counting KO/TKO victories by fighter\n",
    "ko_wins = df_winners[df_winners[\"is_ko\"]].groupby(\"winner\")[\"fight_id\"].count().reset_index(name=\"ko_wins\")\n",
    "\n",
    "# counting wins by fighter\n",
    "total_wins = df_winners.groupby(\"winner\")[\"fight_id\"].count().reset_index(name=\"total_wins\")\n",
    "\n",
    "# join dataframes\n",
    "ko_rate_df = pd.merge(ko_wins, total_wins, on=\"winner\")\n",
    "\n",
    "# calculate ko rate\n",
    "ko_rate_df[\"ko_rate\"] = ko_rate_df[\"ko_wins\"] / ko_rate_df[\"total_wins\"]\n",
    "\n",
    "# getting fighters with more than 10 wins\n",
    "\n",
    "ko_rate_df = ko_rate_df[\n",
    "    ko_rate_df[\"total_wins\"] > 10\n",
    "]\n",
    "\n",
    "# ordering\n",
    "ko_rate_df = ko_rate_df.sort_values(by=\"ko_rate\", ascending=False)\n",
    "\n",
    "ko_rate_df.head(10)"
   ]
  },
  {
   "cell_type": "markdown",
   "id": "f7e7e8d1-869a-4313-9e00-cc2b65a6ecba",
   "metadata": {},
   "source": [
    "### Performance comparasion by age"
   ]
  },
  {
   "cell_type": "markdown",
   "id": "9f152421-8c05-4e25-ac47-c93f886cb03d",
   "metadata": {},
   "source": [
    "#### Calculating fighters ages"
   ]
  },
  {
   "cell_type": "code",
   "execution_count": 39,
   "id": "6cb68ca7-8707-48b6-9767-2ecad285f611",
   "metadata": {},
   "outputs": [],
   "source": [
    "df = raw_ufc_details.copy()\n",
    "df[\"r_age\"] = (df[\"date\"] - df[\"r_dob\"]).dt.days // 365\n",
    "df[\"b_age\"] = (df[\"date\"] - df[\"b_dob\"]).dt.days // 365"
   ]
  },
  {
   "cell_type": "markdown",
   "id": "a163fb10-fbba-498d-8f14-8de669b7abae",
   "metadata": {},
   "source": [
    "#### Creating a new data frame with fight results and fighters age"
   ]
  },
  {
   "cell_type": "code",
   "execution_count": 40,
   "id": "014f7961-10cd-48c6-bc43-18093f2abd42",
   "metadata": {},
   "outputs": [],
   "source": [
    "red_fighters = df[[\"r_name\", \"r_age\", \"winner\"]].rename(\n",
    "    columns={\"r_name\": \"fighter\", \"r_age\": \"age\"}\n",
    ")\n",
    "red_fighters[\"is_winner\"] = red_fighters[\"fighter\"] == red_fighters[\"winner\"]\n",
    "\n",
    "blue_fighters = df[[\"b_name\", \"b_age\", \"winner\"]].rename(\n",
    "    columns={\"b_name\": \"fighter\", \"b_age\": \"age\"}\n",
    ")\n",
    "blue_fighters[\"is_winner\"] = blue_fighters[\"fighter\"] == blue_fighters[\"winner\"]\n",
    "\n",
    "fighters_df = pd.concat([red_fighters, blue_fighters])"
   ]
  },
  {
   "cell_type": "code",
   "execution_count": 41,
   "id": "11c33809-666e-435c-9171-030412901865",
   "metadata": {},
   "outputs": [
    {
     "data": {
      "text/html": [
       "<div>\n",
       "<style scoped>\n",
       "    .dataframe tbody tr th:only-of-type {\n",
       "        vertical-align: middle;\n",
       "    }\n",
       "\n",
       "    .dataframe tbody tr th {\n",
       "        vertical-align: top;\n",
       "    }\n",
       "\n",
       "    .dataframe thead th {\n",
       "        text-align: right;\n",
       "    }\n",
       "</style>\n",
       "<table border=\"1\" class=\"dataframe\">\n",
       "  <thead>\n",
       "    <tr style=\"text-align: right;\">\n",
       "      <th></th>\n",
       "      <th>fighter</th>\n",
       "      <th>age</th>\n",
       "      <th>winner</th>\n",
       "      <th>is_winner</th>\n",
       "    </tr>\n",
       "  </thead>\n",
       "  <tbody>\n",
       "    <tr>\n",
       "      <th>0</th>\n",
       "      <td>Tofiq Musayev</td>\n",
       "      <td>35.0</td>\n",
       "      <td>Myktybek Orolbai</td>\n",
       "      <td>False</td>\n",
       "    </tr>\n",
       "    <tr>\n",
       "      <th>1</th>\n",
       "      <td>Rafael Fiziev</td>\n",
       "      <td>32.0</td>\n",
       "      <td>Rafael Fiziev</td>\n",
       "      <td>True</td>\n",
       "    </tr>\n",
       "    <tr>\n",
       "      <th>2</th>\n",
       "      <td>Nazim Sadykhov</td>\n",
       "      <td>31.0</td>\n",
       "      <td>Nazim Sadykhov</td>\n",
       "      <td>True</td>\n",
       "    </tr>\n",
       "    <tr>\n",
       "      <th>3</th>\n",
       "      <td>Seokhyeon Ko</td>\n",
       "      <td>31.0</td>\n",
       "      <td>Seokhyeon Ko</td>\n",
       "      <td>True</td>\n",
       "    </tr>\n",
       "    <tr>\n",
       "      <th>4</th>\n",
       "      <td>Jamahal Hill</td>\n",
       "      <td>34.0</td>\n",
       "      <td>Khalil Rountree Jr.</td>\n",
       "      <td>False</td>\n",
       "    </tr>\n",
       "    <tr>\n",
       "      <th>...</th>\n",
       "      <td>...</td>\n",
       "      <td>...</td>\n",
       "      <td>...</td>\n",
       "      <td>...</td>\n",
       "    </tr>\n",
       "    <tr>\n",
       "      <th>8245</th>\n",
       "      <td>Ernie Verdicia</td>\n",
       "      <td>NaN</td>\n",
       "      <td>Oleg Taktarov</td>\n",
       "      <td>False</td>\n",
       "    </tr>\n",
       "    <tr>\n",
       "      <th>8246</th>\n",
       "      <td>John Dowdy</td>\n",
       "      <td>NaN</td>\n",
       "      <td>Guy Mezger</td>\n",
       "      <td>False</td>\n",
       "    </tr>\n",
       "    <tr>\n",
       "      <th>8247</th>\n",
       "      <td>Andy Anderson</td>\n",
       "      <td>20.0</td>\n",
       "      <td>Jon Hess</td>\n",
       "      <td>False</td>\n",
       "    </tr>\n",
       "    <tr>\n",
       "      <th>8248</th>\n",
       "      <td>Joe Charles</td>\n",
       "      <td>NaN</td>\n",
       "      <td>Dan Severn</td>\n",
       "      <td>False</td>\n",
       "    </tr>\n",
       "    <tr>\n",
       "      <th>8249</th>\n",
       "      <td>Asbel Cancio</td>\n",
       "      <td>NaN</td>\n",
       "      <td>Dave Beneteau</td>\n",
       "      <td>False</td>\n",
       "    </tr>\n",
       "  </tbody>\n",
       "</table>\n",
       "<p>16500 rows × 4 columns</p>\n",
       "</div>"
      ],
      "text/plain": [
       "             fighter   age               winner  is_winner\n",
       "0      Tofiq Musayev  35.0     Myktybek Orolbai      False\n",
       "1      Rafael Fiziev  32.0        Rafael Fiziev       True\n",
       "2     Nazim Sadykhov  31.0       Nazim Sadykhov       True\n",
       "3       Seokhyeon Ko  31.0         Seokhyeon Ko       True\n",
       "4       Jamahal Hill  34.0  Khalil Rountree Jr.      False\n",
       "...              ...   ...                  ...        ...\n",
       "8245  Ernie Verdicia   NaN        Oleg Taktarov      False\n",
       "8246      John Dowdy   NaN           Guy Mezger      False\n",
       "8247   Andy Anderson  20.0             Jon Hess      False\n",
       "8248     Joe Charles   NaN           Dan Severn      False\n",
       "8249    Asbel Cancio   NaN        Dave Beneteau      False\n",
       "\n",
       "[16500 rows x 4 columns]"
      ]
     },
     "execution_count": 41,
     "metadata": {},
     "output_type": "execute_result"
    }
   ],
   "source": [
    "fighters_df"
   ]
  },
  {
   "cell_type": "code",
   "execution_count": 42,
   "id": "e1de6917-8c10-4802-abc5-5b5bdb556c26",
   "metadata": {},
   "outputs": [],
   "source": [
    "performance_by_age = fighters_df.groupby(\"age\")[\"is_winner\"].mean().reset_index(name=\"win_rate\")"
   ]
  },
  {
   "cell_type": "markdown",
   "id": "1cd2bcec-2519-4858-9aed-dd03bd748f4a",
   "metadata": {},
   "source": [
    "> ⚠️ **Disclaimer: How the Win Rate by Age is Calculated**\n",
    ">\n",
    "> The `win_rate` (win percentage by age) in this notebook is computed by analyzing fighters' outcomes based on their age at the time of each fight.\n",
    "> \n",
    "> The dataset has been transformed into a long format, where each row represents **one fighter per fight** (instead of one row per fight with two fighters). This allows us to associate each fighter with their age and match outcome individually.\n",
    ">\n",
    "> The win rate for each age is calculated as:\n",
    ">\n",
    "> **Number of fights won by fighters at a given age ÷ Total number of fights fought at that same age**\n",
    ">\n",
    "> For example, if fighters who were 30 years old won 60 out of 100 fights, the win rate at age 30 is 0.60.\n",
    ">\n",
    "> ---\n",
    ">\n",
    "> **Important Notes:**\n",
    "> - This does **not** account for opponent strength, fight context, or event level.\n",
    "> - Ages with very few fights may result in misleading rates due to low sample size.\n"
   ]
  },
  {
   "cell_type": "code",
   "execution_count": 43,
   "id": "50732d98-d0bc-4313-9516-13dc1181f6e4",
   "metadata": {},
   "outputs": [
    {
     "data": {
      "image/png": "[encoded data removed]",
      "text/plain": [
       "<Figure size 1000x600 with 1 Axes>"
      ]
     },
     "metadata": {},
     "output_type": "display_data"
    }
   ],
   "source": [
    "import matplotlib.pyplot as plt\n",
    "\n",
    "plt.figure(figsize=(10, 6))\n",
    "plt.plot(performance_by_age[\"age\"], performance_by_age[\"win_rate\"], marker=\"o\")\n",
    "plt.xlabel(\"Age\")\n",
    "plt.ylabel(\"Win Rate\")\n",
    "plt.title(\"Performance by Age (Win Rate)\")\n",
    "plt.grid(True)\n",
    "plt.tight_layout()\n",
    "plt.show()\n"
   ]
  },
  {
   "cell_type": "markdown",
   "id": "71f63e3f-59b7-4d56-9e44-3d632d9d425a",
   "metadata": {},
   "source": [
    "### Average career length"
   ]
  },
  {
   "cell_type": "code",
   "execution_count": 44,
   "id": "67801fdf-24fe-44a2-bfa6-5b6533212c12",
   "metadata": {},
   "outputs": [],
   "source": [
    "df = raw_ufc_details.copy()"
   ]
  },
  {
   "cell_type": "code",
   "execution_count": 45,
   "id": "9eba241f-43e4-49fb-aca4-1df3b9e7ebd5",
   "metadata": {},
   "outputs": [],
   "source": [
    "red_fighters = df[[\"r_id\", \"r_name\", \"date\"]].rename(columns={\n",
    "    \"r_id\": \"fighter_id\",\n",
    "    \"r_name\": \"fighter_name\"\n",
    "})\n",
    "\n",
    "blue_fighters = df[[\"b_id\", \"b_name\", \"date\"]].rename(columns={\n",
    "    \"b_id\": \"fighter_id\",\n",
    "    \"b_name\": \"fighter_name\"\n",
    "})\n",
    "\n",
    "all_fighters = pd.concat([red_fighters, blue_fighters], ignore_index=True)"
   ]
  },
  {
   "cell_type": "code",
   "execution_count": 46,
   "id": "554a8203-1989-4fad-bcac-cb9f2c11462d",
   "metadata": {},
   "outputs": [],
   "source": [
    "career_dates = all_fighters.groupby(\"fighter_id\")[\"date\"].agg([\"min\", \"max\"]).reset_index()\n",
    "career_dates[\"career_length_days\"] = (career_dates[\"max\"] - career_dates[\"min\"]).dt.days\n",
    "career_dates[\"career_length_years\"] = career_dates[\"career_length_days\"] / 365"
   ]
  },
  {
   "cell_type": "code",
   "execution_count": 47,
   "id": "e72c0287-3fff-4116-8471-c693f23624c1",
   "metadata": {},
   "outputs": [
    {
     "data": {
      "text/plain": [
       "np.float64(3.204485009543695)"
      ]
     },
     "execution_count": 47,
     "metadata": {},
     "output_type": "execute_result"
    }
   ],
   "source": [
    "average_career_length_years = career_dates[\"career_length_years\"].mean()\n",
    "average_career_length_years"
   ]
  },
  {
   "cell_type": "markdown",
   "id": "7f60c9cb-11c9-445d-8db0-041a593c2dd5",
   "metadata": {},
   "source": [
    "# 2. Analytical & Comparative Reports\n",
    "\n",
    "> These go deeper and highlight analytical thinking, correlations, and behavior patterns."
   ]
  },
  {
   "cell_type": "markdown",
   "id": "dfee1c66-0393-4425-acfe-f57b238b5d95",
   "metadata": {},
   "source": [
    "## What Influences a Fight Outcome?"
   ]
  },
  {
   "cell_type": "code",
   "execution_count": 48,
   "id": "65839489-71d1-497e-9b00-6009df42715c",
   "metadata": {},
   "outputs": [],
   "source": [
    "df_fight_outcome = raw_ufc_details.copy()"
   ]
  },
  {
   "cell_type": "markdown",
   "id": "c01ea49a-efe7-4bec-9c9d-81b24ceb5c6f",
   "metadata": {},
   "source": [
    "### Correlation between height/reach and win probability"
   ]
  },
  {
   "cell_type": "code",
   "execution_count": 49,
   "id": "6c5ea939-283a-4b05-af04-460988bccb1d",
   "metadata": {},
   "outputs": [],
   "source": [
    "height_diff = df_fight_outcome[\"r_height\"] - df_fight_outcome[\"b_height\"]\n",
    "reach_diff = df_fight_outcome[\"r_reach\"] - df_fight_outcome[\"b_reach\"]\n",
    "is_red_win = df_fight_outcome[\"winner\"] == df_fight_outcome[\"r_name\"]"
   ]
  },
  {
   "cell_type": "code",
   "execution_count": 50,
   "id": "37da5121-8ca2-4984-9e14-28972b3079f8",
   "metadata": {},
   "outputs": [],
   "source": [
    "df_corr = pd.DataFrame({\n",
    "    \"height_diff\": height_diff,\n",
    "    \"reach_diff\": reach_diff,\n",
    "    \"is_red_win\": is_red_win.astype(int)  # True/False -> 1/0\n",
    "})"
   ]
  },
  {
   "cell_type": "markdown",
   "id": "89a72cad-7765-4092-8895-8f0c3dad6f8f",
   "metadata": {},
   "source": [
    "#### Evaluate correlation"
   ]
  },
  {
   "cell_type": "code",
   "execution_count": 51,
   "id": "d65974f7-7027-4ea3-a9aa-6d2fa5d4a45d",
   "metadata": {},
   "outputs": [
    {
     "data": {
      "text/html": [
       "<div>\n",
       "<style scoped>\n",
       "    .dataframe tbody tr th:only-of-type {\n",
       "        vertical-align: middle;\n",
       "    }\n",
       "\n",
       "    .dataframe tbody tr th {\n",
       "        vertical-align: top;\n",
       "    }\n",
       "\n",
       "    .dataframe thead th {\n",
       "        text-align: right;\n",
       "    }\n",
       "</style>\n",
       "<table border=\"1\" class=\"dataframe\">\n",
       "  <thead>\n",
       "    <tr style=\"text-align: right;\">\n",
       "      <th></th>\n",
       "      <th>height_diff</th>\n",
       "      <th>reach_diff</th>\n",
       "      <th>is_red_win</th>\n",
       "    </tr>\n",
       "  </thead>\n",
       "  <tbody>\n",
       "    <tr>\n",
       "      <th>height_diff</th>\n",
       "      <td>1.000000</td>\n",
       "      <td>0.621924</td>\n",
       "      <td>0.043204</td>\n",
       "    </tr>\n",
       "    <tr>\n",
       "      <th>reach_diff</th>\n",
       "      <td>0.621924</td>\n",
       "      <td>1.000000</td>\n",
       "      <td>0.057235</td>\n",
       "    </tr>\n",
       "    <tr>\n",
       "      <th>is_red_win</th>\n",
       "      <td>0.043204</td>\n",
       "      <td>0.057235</td>\n",
       "      <td>1.000000</td>\n",
       "    </tr>\n",
       "  </tbody>\n",
       "</table>\n",
       "</div>"
      ],
      "text/plain": [
       "             height_diff  reach_diff  is_red_win\n",
       "height_diff     1.000000    0.621924    0.043204\n",
       "reach_diff      0.621924    1.000000    0.057235\n",
       "is_red_win      0.043204    0.057235    1.000000"
      ]
     },
     "execution_count": 51,
     "metadata": {},
     "output_type": "execute_result"
    }
   ],
   "source": [
    "correlation_matrix = df_corr.corr()\n",
    "\n",
    "correlation_matrix"
   ]
  },
  {
   "cell_type": "code",
   "execution_count": 52,
   "id": "01ee5bd0-c4c0-4b26-b7fa-964c85069004",
   "metadata": {},
   "outputs": [],
   "source": [
    "corr_result = correlation_matrix[\"is_red_win\"].sort_values(ascending=False)"
   ]
  },
  {
   "cell_type": "code",
   "execution_count": 53,
   "id": "844ab511-4fbc-4a8d-8182-893e09229cc6",
   "metadata": {},
   "outputs": [
    {
     "name": "stdout",
     "output_type": "stream",
     "text": [
      "Note: Based on the data, reach difference shows a correlation of 0.057 with winning probability, while height difference shows a correlation of 0.043. This suggests that reach has a slightly higher influence on fight outcomes than height, although both correlations are weak and should not be considered strong predictors.\n"
     ]
    }
   ],
   "source": [
    "\n",
    "print(\n",
    "    f\"Note: Based on the data, reach difference shows a correlation of \"\n",
    "    f\"{corr_result['reach_diff']:.3f} with winning probability, \"\n",
    "    f\"while height difference shows a correlation of {corr_result['height_diff']:.3f}. \"\n",
    "    \"This suggests that reach has a slightly higher influence on fight outcomes than height, \"\n",
    "    \"although both correlations are weak and should not be considered strong predictors.\"\n",
    ")"
   ]
  },
  {
   "cell_type": "markdown",
   "id": "87b473f1-6bff-4696-a963-65b2aa3dd3f0",
   "metadata": {},
   "source": [
    "### Does making weight increase win chances?"
   ]
  },
  {
   "cell_type": "markdown",
   "id": "b315dbac-d6b2-42f6-a3ec-e6605af0a0d8",
   "metadata": {},
   "source": [
    "> Fighters who cut weight correctly can have a psychological and physical advantage (even if temporary) over those who miss weight, or at least, they don't suffer the penalties."
   ]
  },
  {
   "cell_type": "markdown",
   "id": "5ea03729-94bc-4bd7-8c7e-08de2a522372",
   "metadata": {},
   "source": [
    "#### Divisions weight limits"
   ]
  },
  {
   "cell_type": "markdown",
   "id": "aac977ff-71a1-4e1e-b9bd-4b18ed7ada72",
   "metadata": {},
   "source": [
    "#### Creating divisions dictionary"
   ]
  },
  {
   "cell_type": "code",
   "execution_count": 61,
   "id": "5b5f16ec-be38-4e87-a221-23688dc4d809",
   "metadata": {},
   "outputs": [],
   "source": [
    "divisions = list(df_fight_outcome[\"division\"].unique())\n",
    "\n",
    "# Initialy those are weights that I know so far\n",
    "\n",
    "# Weights in pounds\n",
    "\n",
    "weight_limits = {\n",
    "    \"flyweight\": 125,\n",
    "    \"bantamweight\": 135,\n",
    "    \"featherweight\": 145,\n",
    "    \"lightweight\": 155,\n",
    "    \"welterweight\": 170,\n",
    "    \"middleweight\": 185,\n",
    "    \"light heavyweight\": 205,\n",
    "    \"heavyweight\": 265\n",
    "}\n",
    "\n",
    "known_divisions = list(weight_limits.keys())\n",
    "for division in divisions:\n",
    "    for kd in known_divisions:\n",
    "        if kd in division.lower():\n",
    "            weight_limits[division] = weight_limits[kd]\n",
    "            break\n",
    "\n",
    "df_fight_outcome[\"division_limit\"] = df_fight_outcome[\"division\"].map(weight_limits)"
   ]
  },
  {
   "cell_type": "markdown",
   "id": "ca39c400-3a9d-41a9-8064-dd772f3c3d9c",
   "metadata": {},
   "source": [
    "#### Filtering divisions with limit"
   ]
  },
  {
   "cell_type": "code",
   "execution_count": 63,
   "id": "1500af38-26b3-415f-8bde-9cb4aa34309c",
   "metadata": {},
   "outputs": [],
   "source": [
    "df_fight_outcome = df_fight_outcome[df_fight_outcome[\"division_limit\"].notna()]"
   ]
  },
  {
   "cell_type": "markdown",
   "id": "dcdc4640-f083-45d8-9059-bf0232c27a5b",
   "metadata": {},
   "source": [
    "#### Does the fighter made the weight?"
   ]
  },
  {
   "cell_type": "code",
   "execution_count": 74,
   "id": "f4f16c18-b633-46b7-a21a-5466fe5ebfed",
   "metadata": {},
   "outputs": [
    {
     "name": "stdout",
     "output_type": "stream",
     "text": [
      "   made_weight       won\n",
      "0        False  0.200000\n",
      "1         True  0.491056\n"
     ]
    }
   ],
   "source": [
    "# Select relevant columns for fighters in the red corner,\n",
    "# renaming columns to generic fighter-related names\n",
    "red_df = df_fight_outcome[[\n",
    "    \"fight_id\", \"division_limit\", \"r_name\", \"r_weight\", \"winner\"\n",
    "]].rename(columns={\n",
    "    \"r_name\": \"fighter_name\",        # rename red fighter's name to \"fighter_name\"\n",
    "    \"r_weight\": \"fighter_weight\"     # rename red fighter's weight to \"fighter_weight\"\n",
    "})\n",
    "\n",
    "# Create a new boolean column \"won\" that indicates if the red fighter won the fight\n",
    "red_df[\"won\"] = red_df[\"winner\"] == red_df[\"fighter_name\"]\n",
    "\n",
    "\n",
    "# Repeat the same process for fighters in the blue corner:\n",
    "# select relevant columns and rename them to generic fighter names\n",
    "blue_df = df_fight_outcome[[\n",
    "    \"fight_id\", \"division_limit\", \"b_name\", \"b_weight\", \"winner\"\n",
    "]].rename(columns={\n",
    "    \"b_name\": \"fighter_name\",        # rename blue fighter's name to \"fighter_name\"\n",
    "    \"b_weight\": \"fighter_weight\"     # rename blue fighter's weight to \"fighter_weight\"\n",
    "})\n",
    "\n",
    "# Create boolean column \"won\" indicating if the blue fighter won\n",
    "blue_df[\"won\"] = blue_df[\"winner\"] == blue_df[\"fighter_name\"]\n",
    "\n",
    "\n",
    "# Concatenate both dataframes (red_df and blue_df) by stacking rows,\n",
    "# resulting in a dataframe with all fighters regardless of corner (red or blue)\n",
    "full_df = pd.concat([red_df, blue_df], ignore_index=True)\n",
    "\n",
    "\n",
    "# Create a new boolean column \"made_weight\" that checks if the fighter made weight,\n",
    "# comparing the fighter's weight to the division weight limit\n",
    "full_df[\"made_weight\"] = full_df[\"fighter_weight\"] <= full_df[\"division_limit\"]\n",
    "\n",
    "\n",
    "# Group the dataframe by \"made_weight\" (True/False),\n",
    "# and calculate the mean of the \"won\" column for each group.\n",
    "# Since \"won\" is boolean (True=1, False=0), the mean represents the win rate per group.\n",
    "win_rate_by_weight = (\n",
    "    full_df\n",
    "    .groupby(\"made_weight\")[\"won\"]\n",
    "    .mean()\n",
    "    .reset_index()\n",
    ")\n",
    "\n",
    "# Print the final result: win rates grouped by whether fighters made weight or not\n",
    "print(win_rate_by_weight)\n"
   ]
  },
  {
   "cell_type": "code",
   "execution_count": null,
   "id": "49649c8f-697d-4092-a9a8-0b751d004ad6",
   "metadata": {},
   "outputs": [],
   "source": []
  }
 ],
 "metadata": {
  "kernelspec": {
   "display_name": "Python [conda env:UFCCaseStudyEnv]",
   "language": "python",
   "name": "conda-env-UFCCaseStudyEnv-py"
  },
  "language_info": {
   "codemirror_mode": {
    "name": "ipython",
    "version": 3
   },
   "file_extension": ".py",
   "mimetype": "text/x-python",
   "name": "python",
   "nbconvert_exporter": "python",
   "pygments_lexer": "ipython3",
   "version": "3.12.11"
  }
 },
 "nbformat": 4,
 "nbformat_minor": 5
}
