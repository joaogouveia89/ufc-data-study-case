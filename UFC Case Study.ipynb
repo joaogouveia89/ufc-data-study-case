{
 "cells": [
  {
   "cell_type": "markdown",
   "id": "a5e206e2-db8c-4db6-9e53-5759f73a20bb",
   "metadata": {},
   "source": [
    "# UFC Case Study Notebook"
   ]
  },
  {
   "cell_type": "markdown",
   "id": "5358a96f-bb8b-4ee7-acaf-666a5a54e5b9",
   "metadata": {},
   "source": [
    "## Importing libraries"
   ]
  },
  {
   "cell_type": "code",
   "execution_count": 378,
   "id": "ff09a25d-d48d-44f9-a3a5-0ecd2974472f",
   "metadata": {},
   "outputs": [],
   "source": [
    "#from collections import Counter\n",
    "import json\n",
    "from datetime import datetime\n",
    "from collections import defaultdict\n",
    "import re\n",
    "import numpy as np\n",
    "import matplotlib.pyplot as plt\n",
    "import seaborn as sns\n",
    "import pandas as pd\n",
    "import kagglehub\n",
    "from jinja2 import Environment, FileSystemLoader"
   ]
  },
  {
   "cell_type": "markdown",
   "id": "66be8510-f9d0-42f2-aeb5-30661fbb0979",
   "metadata": {},
   "source": [
    "## Util functions"
   ]
  },
  {
   "cell_type": "code",
   "execution_count": 379,
   "id": "dd2423e9-231f-4dea-9445-7d920a24c60b",
   "metadata": {},
   "outputs": [],
   "source": [
    "def human_readable_date(date):\n",
    "    # usage example d = human_readable_date(datetime.today())\n",
    "    if isinstance(date, str):\n",
    "        date = datetime.strptime(date, \"%Y-%m-%d\")  # ou \"%d/%m/%Y\" se for BR\n",
    "\n",
    "    day = date.day\n",
    "    year = date.year\n",
    "    month = date.strftime(\"%B\")\n",
    "\n",
    "    # Sufixos: st, nd, rd, th\n",
    "    if 11 <= day <= 13:\n",
    "        suffix = \"th\"\n",
    "    else:\n",
    "        last_digit = day % 10\n",
    "        suffix = {1: \"st\", 2: \"nd\", 3: \"rd\"}.get(last_digit, \"th\")\n",
    "\n",
    "    return f\"{month} {day}{suffix}, {year}\"\n",
    "\n",
    "def human_readable_duration(seconds: int) -> str:\n",
    "    if seconds < 0:\n",
    "        raise ValueError(\"Duration cannot be negative\")\n",
    "\n",
    "    minutes, sec = divmod(seconds, 60)\n",
    "    hours, minutes = divmod(minutes, 60)\n",
    "\n",
    "    parts = []\n",
    "    if hours:\n",
    "        parts.append(f\"{hours} hour\" + (\"s\" if hours != 1 else \"\"))\n",
    "    if minutes:\n",
    "        parts.append(f\"{minutes} minute\" + (\"s\" if minutes != 1 else \"\"))\n",
    "    if not parts:\n",
    "        parts.append(\"less than a minute\")\n",
    "\n",
    "    return \" and \".join(parts)"
   ]
  },
  {
   "cell_type": "markdown",
   "id": "69b6e20a-6c7f-4f27-a634-d993bc83e05b",
   "metadata": {},
   "source": [
    "## Raw data fetch"
   ]
  },
  {
   "cell_type": "code",
   "execution_count": null,
   "id": "ef1a23a9-028b-4e64-8e9d-a9dc40458689",
   "metadata": {},
   "outputs": [],
   "source": [
    "path = kagglehub.dataset_download(\"neelagiriaditya/ufc-datasets-1994-2025\")\n",
    "print(\"Path to dataset files:\", path)\n",
    "\n",
    "data_folder = \"/UFC DATASETS/\"\n",
    "\n",
    "raw_event_details = pd.read_csv(path + data_folder + \"event_details.csv\", parse_dates=[\"date\"])\n",
    "raw_figther_details = pd.read_csv(path + data_folder + \"fighter_details.csv\", parse_dates=[\"dob\"])\n",
    "raw_fight_details = pd.read_csv(path + data_folder + \"fight_details.csv\")\n",
    "raw_ufc_details = pd.read_csv(path + data_folder + \"UFC.csv\", parse_dates=[\"date\", \"r_dob\", \"b_dob\"])"
   ]
  },
  {
   "cell_type": "markdown",
   "id": "5d703fa1-9032-424e-ac88-f3b524b07316",
   "metadata": {},
   "source": [
    "## Data basic exploration"
   ]
  },
  {
   "cell_type": "markdown",
   "id": "39a7cb01-d3f4-412a-9b93-4c0f3a97e0c9",
   "metadata": {},
   "source": [
    "### Event details exploration"
   ]
  },
  {
   "cell_type": "code",
   "execution_count": null,
   "id": "441f4bd6-3c35-41f9-bbb2-cebaed01dca3",
   "metadata": {},
   "outputs": [],
   "source": [
    "raw_event_details.head()"
   ]
  },
  {
   "cell_type": "code",
   "execution_count": null,
   "id": "4c0d470a-d606-4491-9c77-c3779766748e",
   "metadata": {},
   "outputs": [],
   "source": [
    "raw_event_details.info()"
   ]
  },
  {
   "cell_type": "markdown",
   "id": "cd23d65a-4e16-42ac-95da-4e8cbc31461c",
   "metadata": {},
   "source": [
    "### Fighter details exploration"
   ]
  },
  {
   "cell_type": "code",
   "execution_count": null,
   "id": "9223e8a9-1f19-4f41-ab19-7ca4843ce7b0",
   "metadata": {},
   "outputs": [],
   "source": [
    "raw_figther_details.head()"
   ]
  },
  {
   "cell_type": "code",
   "execution_count": null,
   "id": "91c7aa34-7979-4c72-9a99-249d55b0f899",
   "metadata": {},
   "outputs": [],
   "source": [
    "raw_figther_details.info()"
   ]
  },
  {
   "cell_type": "markdown",
   "id": "1dc39ab7-0a96-410a-ad88-dd43f886d0c9",
   "metadata": {},
   "source": [
    "### Fight details exploration"
   ]
  },
  {
   "cell_type": "code",
   "execution_count": null,
   "id": "3aabe96d-0861-4729-9ed1-00f9cfc3dfe3",
   "metadata": {},
   "outputs": [],
   "source": [
    "raw_fight_details.head()"
   ]
  },
  {
   "cell_type": "code",
   "execution_count": null,
   "id": "bfc3202e-309e-450a-9967-53c7e739505c",
   "metadata": {},
   "outputs": [],
   "source": [
    "raw_fight_details.info()"
   ]
  },
  {
   "cell_type": "markdown",
   "id": "22ddfa22-f097-46bd-a7dc-8de52db54d52",
   "metadata": {},
   "source": [
    "# Fight details initial cleaning"
   ]
  },
  {
   "cell_type": "markdown",
   "id": "540f4365-bb52-450e-9913-ac44951b02f5",
   "metadata": {},
   "source": [
    "> Only weight categories with short names (up to two words) and divisions with no numbers in the name were considered, as long names suggest personalized, inconsistent, or poorly categorized divisions in the raw data. Also Superfight Championship and Open Weight were removed because they were disputed only in, respectively 2 and 4 years"
   ]
  },
  {
   "cell_type": "code",
   "execution_count": null,
   "id": "3b19730e-becb-4348-9074-e4cc7ae965b5",
   "metadata": {},
   "outputs": [],
   "source": [
    "filtered_raw_fight_details = raw_fight_details[\n",
    "    (raw_fight_details[\"division\"].str.split().str.len() <= 2) &\n",
    "    (~raw_fight_details[\"division\"].str.contains(r'\\d', regex=True)) & \n",
    "    (~raw_fight_details[\"division\"].str.contains(r'open weight|superfight championship', regex=True))\n",
    "]"
   ]
  },
  {
   "cell_type": "markdown",
   "id": "3ba2a0e1-e85a-480d-872d-ca543fd18101",
   "metadata": {},
   "source": [
    "# 1. Description Reports"
   ]
  },
  {
   "cell_type": "markdown",
   "id": "fb4c1e8a-fbef-4d96-963a-50fe6497c21a",
   "metadata": {},
   "source": [
    "## Historical overview of the UFC"
   ]
  },
  {
   "cell_type": "markdown",
   "id": "086f0498-c7a6-4361-8082-046b9526e330",
   "metadata": {},
   "source": [
    "### Events by year"
   ]
  },
  {
   "cell_type": "code",
   "execution_count": null,
   "id": "291cb376-8a12-4372-8c03-b4b725a5d4cb",
   "metadata": {},
   "outputs": [],
   "source": [
    "# fights_by_year = Counter(raw_event_details[\"date\"].map(lambda d: d.year)) my approach, more python way\n",
    "# One problem with my approach is that I'll have to make a bunch of conversions in order to plot the data\n",
    "events_by_year = raw_event_details[\"date\"].dt.year.value_counts().sort_index() # LLM approach suggestion, more pandas way"
   ]
  },
  {
   "cell_type": "code",
   "execution_count": null,
   "id": "c1cbd58d-110f-404e-ae63-a80acd1202f4",
   "metadata": {},
   "outputs": [],
   "source": [
    "chartName = \"images/chart-1.png\"\n",
    "events_by_year.plot(kind=\"bar\", figsize=(12, 6), title=\"Number of events by year\")\n",
    "plt.xlabel(\"Year\")\n",
    "plt.ylabel(\"Number of events\")\n",
    "plt.grid(True)\n",
    "plt.tight_layout()\n",
    "plt.savefig(chartName)\n",
    "plt.show()"
   ]
  },
  {
   "cell_type": "markdown",
   "id": "a6d4373f-9c6a-46ac-9089-60bc9553c1fc",
   "metadata": {},
   "source": [
    "> We can see from the chart that the number of events in the year increased significantly from 2005 onwards"
   ]
  },
  {
   "cell_type": "markdown",
   "id": "e61b87bb-c3e0-449c-a9bc-9f7ac0b87270",
   "metadata": {},
   "source": [
    "### Top 5 Cities and Countries with more events"
   ]
  },
  {
   "cell_type": "code",
   "execution_count": null,
   "id": "9bd06533-bac3-45d3-ab6c-0a90cd4da2bd",
   "metadata": {},
   "outputs": [],
   "source": [
    "event_location = raw_event_details[\"location\"].copy()\n",
    "\n",
    "split_location = event_location.str.split(',', expand=True).apply(lambda col: col.str.strip())\n",
    "\n",
    "# Creating new data frame\n",
    "event_location_df = pd.DataFrame()\n",
    "event_location_df[\"city\"] = split_location[0]\n",
    "event_location_df[\"country\"] = split_location.apply(\n",
    "    lambda row: row.iloc[-2] if pd.isna(row.iloc[-1]) else row.iloc[-1],\n",
    "    axis=1\n",
    ")"
   ]
  },
  {
   "cell_type": "code",
   "execution_count": null,
   "id": "4064d29f-c85f-462c-8bca-f3f6250e168a",
   "metadata": {},
   "outputs": [],
   "source": [
    "countries_num_of_events = event_location_df[\"country\"].value_counts().sort_values(ascending=False)\n",
    "countries_num_of_events.head(5)"
   ]
  },
  {
   "cell_type": "code",
   "execution_count": null,
   "id": "0b13d1a2-a8dd-49b7-a206-29bc33d330b8",
   "metadata": {},
   "outputs": [],
   "source": [
    "countries_report = countries_num_of_events.head(5).to_dict()\n",
    "countries_report"
   ]
  },
  {
   "cell_type": "code",
   "execution_count": null,
   "id": "ed3f0784-83f7-4dbc-b41e-ec714d99ce14",
   "metadata": {},
   "outputs": [],
   "source": [
    "cities_num_of_events = event_location_df[\"city\"].value_counts().sort_values(ascending=False)\n",
    "cities_num_of_events.head(5)"
   ]
  },
  {
   "cell_type": "code",
   "execution_count": null,
   "id": "5fff6f9d-4f68-4095-8b35-e4d7b65bce45",
   "metadata": {},
   "outputs": [],
   "source": [
    "cities_report = cities_num_of_events.head(5).to_dict()\n",
    "cities_report"
   ]
  },
  {
   "cell_type": "markdown",
   "id": "950f130e-cb02-499a-900a-101deb521b80",
   "metadata": {},
   "source": [
    "### Number of fights by weight category over time"
   ]
  },
  {
   "cell_type": "code",
   "execution_count": null,
   "id": "9170a167-e230-492f-b775-deaeeef3b802",
   "metadata": {},
   "outputs": [],
   "source": [
    "categories_fights = pd.merge(\n",
    "    filtered_raw_fight_details[[\"event_id\", \"division\"]],\n",
    "    raw_event_details[[\"event_id\", \"date\"]],\n",
    "    on=\"event_id\",\n",
    "    how=\"inner\"\n",
    ").drop([\"event_id\"], axis = 1)"
   ]
  },
  {
   "cell_type": "code",
   "execution_count": null,
   "id": "9a2d8606-10df-4349-9c0a-3e31d2334da8",
   "metadata": {},
   "outputs": [],
   "source": [
    "categories_fights[\"year\"] = pd.to_datetime(categories_fights[\"date\"]).dt.year"
   ]
  },
  {
   "cell_type": "code",
   "execution_count": null,
   "id": "571a6400-dd66-49b4-a459-5c7b16452aee",
   "metadata": {},
   "outputs": [],
   "source": [
    "categories_fights = categories_fights.drop([\"date\"], axis = 1)"
   ]
  },
  {
   "cell_type": "code",
   "execution_count": null,
   "id": "275f7472-c61a-4de0-961b-8c1479129e3f",
   "metadata": {},
   "outputs": [],
   "source": [
    "fights_per_year_division = (\n",
    "    categories_fights\n",
    "    .groupby([\"year\", \"division\"])\n",
    "    .size()\n",
    "    .reset_index(name=\"num_fights\")\n",
    ")\n",
    "\n",
    "fights_per_year_division"
   ]
  },
  {
   "cell_type": "markdown",
   "id": "e17b3ffb-f453-4a8c-9b7d-b47f1f2bd6b8",
   "metadata": {},
   "source": [
    "#### ChartJS formatting transformation"
   ]
  },
  {
   "cell_type": "code",
   "execution_count": null,
   "id": "0de3f48d-370e-40cb-9f71-1670c7e64f4c",
   "metadata": {},
   "outputs": [],
   "source": [
    "\n",
    "data = fights_per_year_division.to_dict(orient=\"records\")\n",
    "\n",
    "# Reorganize per division\n",
    "divisions = defaultdict(list)\n",
    "years = sorted(set(d[\"year\"] for d in data))\n",
    "\n",
    "for division in sorted(set(d[\"division\"] for d in data)):\n",
    "    for year in years:\n",
    "        fight = next((x[\"num_fights\"] for x in data if x[\"year\"] == year and x[\"division\"] == division), 0)\n",
    "        divisions[division].append(fight)\n",
    "\n",
    "dist_fights_per_weight_chart_data = {\n",
    "    \"labels\": years,\n",
    "    \"datasets\": [\n",
    "        {\n",
    "            \"label\": division,\n",
    "            \"data\": fights,\n",
    "        }\n",
    "        for division, fights in divisions.items()\n",
    "    ]\n",
    "}\n",
    "\n",
    "dist_fights_per_weight_chart_data = json.dumps(dist_fights_per_weight_chart_data)"
   ]
  },
  {
   "cell_type": "markdown",
   "id": "0208893a-a9ec-41bb-9bac-c40707016a1c",
   "metadata": {},
   "source": [
    "## General fight statistics"
   ]
  },
  {
   "cell_type": "markdown",
   "id": "90747b7b-5293-4ef2-9f71-628f575e20c8",
   "metadata": {},
   "source": [
    "### Ratio of wins by knockout, submission, and decision"
   ]
  },
  {
   "cell_type": "code",
   "execution_count": null,
   "id": "0a4a0915-87d0-4d2b-b10c-ffe9fe89b175",
   "metadata": {},
   "outputs": [],
   "source": [
    "methods = filtered_raw_fight_details[\"method\"]\n",
    "methods.value_counts()"
   ]
  },
  {
   "cell_type": "code",
   "execution_count": null,
   "id": "2c2ec721-0994-4ee1-ae67-7e205c41f561",
   "metadata": {},
   "outputs": [],
   "source": [
    "ko_submission_decision_methods = filtered_raw_fight_details[\n",
    "    filtered_raw_fight_details[\"method\"].str.contains(\"KO/TKO|Submission|Decision\", na=False)\n",
    "]"
   ]
  },
  {
   "cell_type": "code",
   "execution_count": null,
   "id": "4ef227e9-5eac-4ddf-bcb5-9c0b90ccf357",
   "metadata": {},
   "outputs": [],
   "source": [
    "ko_submission_decision_methods[\"method\"].value_counts()"
   ]
  },
  {
   "cell_type": "markdown",
   "id": "eaa393b8-d2ce-45a2-b49c-9d1090e52d03",
   "metadata": {},
   "source": [
    "#### Groupping decision method variations"
   ]
  },
  {
   "cell_type": "code",
   "execution_count": null,
   "id": "c2a84094-0b60-4bff-9a7c-7d74f5682573",
   "metadata": {},
   "outputs": [],
   "source": [
    "ko_submission_decision_methods[\"method_grouped\"] = np.where(\n",
    "    ko_submission_decision_methods[\"method\"].str.contains(\"Decision\", na=False),\n",
    "    \"Decision\",\n",
    "    ko_submission_decision_methods[\"method\"]\n",
    ")"
   ]
  },
  {
   "cell_type": "code",
   "execution_count": null,
   "id": "972d0b2d-d8c7-4fb5-961d-e1c4309665a9",
   "metadata": {},
   "outputs": [],
   "source": [
    "ko_submission_decision_methods[\"method_grouped\"].value_counts()"
   ]
  },
  {
   "cell_type": "markdown",
   "id": "f5708922-009d-4a91-a1f2-dab0a695c306",
   "metadata": {},
   "source": [
    "#### Decision methods to chartjs and stats"
   ]
  },
  {
   "cell_type": "code",
   "execution_count": null,
   "id": "f39d268e-6168-4149-a4b3-fc2766f085e1",
   "metadata": {},
   "outputs": [],
   "source": [
    "ko_submission_decision_methods_json = ko_submission_decision_methods[\"method_grouped\"].value_counts().to_dict()\n",
    "vals_sum = sum(list(ko_submission_decision_methods_json.values()))\n",
    "\n",
    "def apply_perc(n):\n",
    "    return round(n/vals_sum * 100, 2)\n",
    "ko_submission_decision_methods_props = list(map(apply_perc, list(ko_submission_decision_methods_json.values())))"
   ]
  },
  {
   "cell_type": "markdown",
   "id": "d4827125-c26b-47bb-9ef4-2e37450c1943",
   "metadata": {},
   "source": [
    "### Average duration of fights by category"
   ]
  },
  {
   "cell_type": "code",
   "execution_count": null,
   "id": "5293f5e7-f33d-47e3-8fe9-ebca0c90069d",
   "metadata": {},
   "outputs": [],
   "source": [
    "avg_duration_per_division = filtered_raw_fight_details.groupby(\"division\")[\"match_time_sec\"].mean().sort_values(ascending=False)"
   ]
  },
  {
   "cell_type": "code",
   "execution_count": null,
   "id": "1f19f62c-9cc1-40f1-8868-fc2539c67b84",
   "metadata": {},
   "outputs": [],
   "source": [
    "avg_duration_per_division"
   ]
  },
  {
   "cell_type": "code",
   "execution_count": null,
   "id": "5e3daa94-60c7-4778-b1ca-d046af819aba",
   "metadata": {},
   "outputs": [],
   "source": [
    "humanized = avg_duration_per_division.apply(lambda x: human_readable_duration(int(x)))"
   ]
  },
  {
   "cell_type": "code",
   "execution_count": null,
   "id": "5adba405-9964-4455-b507-dabfb76822cf",
   "metadata": {},
   "outputs": [],
   "source": [
    "for division, duration in humanized.items():\n",
    "    print(f\"{division}: {duration}\")"
   ]
  },
  {
   "cell_type": "code",
   "execution_count": null,
   "id": "d3d7fa2b-e20d-4820-aa18-d1f5d380c1b4",
   "metadata": {},
   "outputs": [],
   "source": [
    "duration_by_weight_class = avg_duration_per_division.to_dict()\n",
    "duration_by_weight_class = {\n",
    "    k.replace(\"_\", \" \").title(): round(v, 2)\n",
    "    for k, v in duration_by_weight_class.items()\n",
    "}"
   ]
  },
  {
   "cell_type": "markdown",
   "id": "1dec0834-d4fb-44fb-a596-bd8f9aef2f33",
   "metadata": {},
   "source": [
    "### Most common submission techniques"
   ]
  },
  {
   "cell_type": "markdown",
   "id": "ca831aaa-305e-4d1b-bb2b-8f33ccff10c1",
   "metadata": {},
   "source": [
    "> Although the initial objective included analyzing the most common submission techniques, the dataset used does not specify the type of submission (e.g., rear naked choke, triangle choke, kimura). Therefore, this analysis could not be performed with the available data."
   ]
  },
  {
   "cell_type": "markdown",
   "id": "1a1ef5b3-f925-482c-86a2-3656fb3f2b07",
   "metadata": {},
   "source": [
    "### Average strikes per minute and per round"
   ]
  },
  {
   "cell_type": "code",
   "execution_count": null,
   "id": "af478825-59a0-4552-9041-765588255827",
   "metadata": {
    "scrolled": true
   },
   "outputs": [],
   "source": [
    "raw_ufc_details.head(5)"
   ]
  },
  {
   "cell_type": "markdown",
   "id": "06dea50b-13e4-467f-99e4-c29b2a81cbd2",
   "metadata": {},
   "source": [
    "#### Average strikes per minute"
   ]
  },
  {
   "cell_type": "markdown",
   "id": "eb44cc74-4923-4802-9efe-1f4b2f30c3f1",
   "metadata": {},
   "source": [
    "The main formula to calculate this is \n",
    "\n",
    "total strikes landed / (match_time_sec / 60)\n",
    "\n",
    "for this metric I'll consider only complete fights, or, fights that last more than 300 sec or 5 min"
   ]
  },
  {
   "cell_type": "code",
   "execution_count": null,
   "id": "8a00f5f3-ddf9-4928-bd57-5af97650f150",
   "metadata": {},
   "outputs": [],
   "source": [
    "avg_strikes_per_min_ckp = raw_ufc_details.copy()\n",
    "avg_strikes_per_min_ckp = avg_strikes_per_min_ckp[\n",
    "    avg_strikes_per_min_ckp[\"match_time_sec\"] > 300\n",
    "]"
   ]
  },
  {
   "cell_type": "code",
   "execution_count": null,
   "id": "f8a88a03-8fa2-4b91-ab51-794e723294b3",
   "metadata": {},
   "outputs": [],
   "source": [
    "avg_strikes_per_min_ckp[\"avg_str_min\"] = (avg_strikes_per_min_ckp[\"b_total_str_landed\"] + avg_strikes_per_min_ckp[\"r_total_str_landed\"]) / (avg_strikes_per_min_ckp[\"match_time_sec\"] / 60) "
   ]
  },
  {
   "cell_type": "code",
   "execution_count": null,
   "id": "70f42062-a094-4f30-b109-9bc345f6c91d",
   "metadata": {},
   "outputs": [],
   "source": [
    "avg_strikes_per_min_ckp.head(5)"
   ]
  },
  {
   "cell_type": "markdown",
   "id": "35a3fa27-e180-48bc-b0c5-a6d45ebed85f",
   "metadata": {},
   "source": [
    "#### Average strikes per round"
   ]
  },
  {
   "cell_type": "markdown",
   "id": "d2a46e08-534c-49f8-822a-38627bba580c",
   "metadata": {},
   "source": [
    "The main formula to calculate this is \n",
    "\n",
    "total strikes landed / total_rounds\n",
    "\n",
    "for this metric I'll consider only complete fights, or, fights that last more than than 300 sec or 5 min"
   ]
  },
  {
   "cell_type": "code",
   "execution_count": null,
   "id": "58e17f49-4b91-4cc3-a45f-e615f2b2f18c",
   "metadata": {},
   "outputs": [],
   "source": [
    "avg_strikes_per_min_ckp[\"avg_str_rnd\"] = (avg_strikes_per_min_ckp[\"b_total_str_landed\"] + avg_strikes_per_min_ckp[\"r_total_str_landed\"]) /  avg_strikes_per_min_ckp[\"finish_round\"]"
   ]
  },
  {
   "cell_type": "code",
   "execution_count": null,
   "id": "3af68c86-cbd8-421b-b13f-a200e2a73499",
   "metadata": {
    "scrolled": true
   },
   "outputs": [],
   "source": [
    "avg_strikes_per_min_ckp.head(5)\n",
    "\n",
    "top_strike_fights = avg_strikes_per_min_ckp[[\"event_name\", \"date\", \"location\", \"division\", \"method\", \"match_time_sec\", \"b_name\", \"r_name\", \"avg_str_min\", \"avg_str_rnd\"]]\n",
    "top_strike_fights = top_strike_fights.head(5)\n",
    "top_strike_fights[\"avg_str_min\"] = round(top_strike_fights[\"avg_str_min\"],2)\n",
    "top_strike_fights[\"avg_str_rnd\"] = avg_strikes_per_min_ckp[\"avg_str_rnd\"]\n",
    "\n",
    "top_strike_fights = top_strike_fights.to_dict(orient=\"records\")"
   ]
  },
  {
   "cell_type": "markdown",
   "id": "49e1321e-ffd2-4b57-8f36-1a845e125436",
   "metadata": {},
   "source": [
    "## Fighter Statistics"
   ]
  },
  {
   "cell_type": "markdown",
   "id": "2a7ba33e-c3f2-4411-8f48-d0152b5cab1b",
   "metadata": {},
   "source": [
    "### Top 10 fighters with the most wins"
   ]
  },
  {
   "cell_type": "code",
   "execution_count": null,
   "id": "10de438c-c141-4fa9-b810-ca7239156b99",
   "metadata": {},
   "outputs": [],
   "source": [
    "top_10_fighters_with_the_most_wins = raw_figther_details.sort_values(by=['wins'], ascending=False)[[\"name\", \"nick_name\", \"wins\"]].head(10)\n",
    "top_10_fighters_with_the_most_wins_dict = top_10_fighters_with_the_most_wins.to_dict(orient=\"records\")\n",
    "top_10_fighters_with_the_most_wins_dict"
   ]
  },
  {
   "cell_type": "markdown",
   "id": "29c987c5-7419-49fc-803a-fd521462b981",
   "metadata": {},
   "source": [
    "### Fighters with the highest KO rate"
   ]
  },
  {
   "cell_type": "code",
   "execution_count": null,
   "id": "3e1149fc-eadb-4ca5-a7af-cb922932634f",
   "metadata": {},
   "outputs": [],
   "source": [
    "# filtering fights with a winner\n",
    "\n",
    "df_winners = raw_ufc_details[raw_ufc_details[\"winner\"].notna()].copy()\n",
    "\n",
    "# new column to mark victories as KO/TKO\n",
    "df_winners[\"is_ko\"] = df_winners[\"method\"].str.contains(\"KO\", case=False, na=False)\n",
    "\n",
    "# counting KO/TKO victories by fighter\n",
    "ko_wins = df_winners[df_winners[\"is_ko\"]].groupby(\"winner\")[\"fight_id\"].count().reset_index(name=\"ko_wins\")\n",
    "\n",
    "# counting wins by fighter\n",
    "total_wins = df_winners.groupby(\"winner\")[\"fight_id\"].count().reset_index(name=\"total_wins\")\n",
    "\n",
    "# join dataframes\n",
    "ko_rate_df = pd.merge(ko_wins, total_wins, on=\"winner\")\n",
    "\n",
    "# calculate ko rate\n",
    "ko_rate_df[\"ko_rate\"] = ko_rate_df[\"ko_wins\"] / ko_rate_df[\"total_wins\"]\n",
    "\n",
    "# getting fighters with more than 10 wins\n",
    "\n",
    "ko_rate_df = ko_rate_df[\n",
    "    ko_rate_df[\"total_wins\"] > 10\n",
    "]\n",
    "\n",
    "# ordering\n",
    "ko_rate_df = ko_rate_df.sort_values(by=\"ko_rate\", ascending=False)\n",
    "\n",
    "ko_rate_df_dict = ko_rate_df.head(10).to_dict(orient=\"records\")\n",
    "\n",
    "ko_rate_df.head(10)"
   ]
  },
  {
   "cell_type": "markdown",
   "id": "f7e7e8d1-869a-4313-9e00-cc2b65a6ecba",
   "metadata": {},
   "source": [
    "### Performance comparasion by age"
   ]
  },
  {
   "cell_type": "markdown",
   "id": "9f152421-8c05-4e25-ac47-c93f886cb03d",
   "metadata": {},
   "source": [
    "#### Calculating fighters ages"
   ]
  },
  {
   "cell_type": "code",
   "execution_count": null,
   "id": "6cb68ca7-8707-48b6-9767-2ecad285f611",
   "metadata": {},
   "outputs": [],
   "source": [
    "df = raw_ufc_details.copy()\n",
    "df[\"r_age\"] = (df[\"date\"] - df[\"r_dob\"]).dt.days // 365\n",
    "df[\"b_age\"] = (df[\"date\"] - df[\"b_dob\"]).dt.days // 365"
   ]
  },
  {
   "cell_type": "markdown",
   "id": "a163fb10-fbba-498d-8f14-8de669b7abae",
   "metadata": {},
   "source": [
    "#### Creating a new data frame with fight results and fighters age"
   ]
  },
  {
   "cell_type": "code",
   "execution_count": null,
   "id": "014f7961-10cd-48c6-bc43-18093f2abd42",
   "metadata": {},
   "outputs": [],
   "source": [
    "red_fighters = df[[\"r_name\", \"r_age\", \"winner\"]].rename(\n",
    "    columns={\"r_name\": \"fighter\", \"r_age\": \"age\"}\n",
    ")\n",
    "red_fighters[\"is_winner\"] = red_fighters[\"fighter\"] == red_fighters[\"winner\"]\n",
    "\n",
    "blue_fighters = df[[\"b_name\", \"b_age\", \"winner\"]].rename(\n",
    "    columns={\"b_name\": \"fighter\", \"b_age\": \"age\"}\n",
    ")\n",
    "blue_fighters[\"is_winner\"] = blue_fighters[\"fighter\"] == blue_fighters[\"winner\"]\n",
    "\n",
    "fighters_df = pd.concat([red_fighters, blue_fighters])"
   ]
  },
  {
   "cell_type": "code",
   "execution_count": null,
   "id": "11c33809-666e-435c-9171-030412901865",
   "metadata": {},
   "outputs": [],
   "source": [
    "fighters_df"
   ]
  },
  {
   "cell_type": "code",
   "execution_count": null,
   "id": "e1de6917-8c10-4802-abc5-5b5bdb556c26",
   "metadata": {},
   "outputs": [],
   "source": [
    "performance_by_age = fighters_df.groupby(\"age\")[\"is_winner\"].mean().reset_index(name=\"win_rate\")"
   ]
  },
  {
   "cell_type": "markdown",
   "id": "1cd2bcec-2519-4858-9aed-dd03bd748f4a",
   "metadata": {},
   "source": [
    "> ⚠️ **Disclaimer: How the Win Rate by Age is Calculated**\n",
    ">\n",
    "> The `win_rate` (win percentage by age) in this notebook is computed by analyzing fighters' outcomes based on their age at the time of each fight.\n",
    "> \n",
    "> The dataset has been transformed into a long format, where each row represents **one fighter per fight** (instead of one row per fight with two fighters). This allows us to associate each fighter with their age and match outcome individually.\n",
    ">\n",
    "> The win rate for each age is calculated as:\n",
    ">\n",
    "> **Number of fights won by fighters at a given age ÷ Total number of fights fought at that same age**\n",
    ">\n",
    "> For example, if fighters who were 30 years old won 60 out of 100 fights, the win rate at age 30 is 0.60.\n",
    ">\n",
    "> ---\n",
    ">\n",
    "> **Important Notes:**\n",
    "> - This does **not** account for opponent strength, fight context, or event level.\n",
    "> - Ages with very few fights may result in misleading rates due to low sample size.\n"
   ]
  },
  {
   "cell_type": "code",
   "execution_count": null,
   "id": "50732d98-d0bc-4313-9516-13dc1181f6e4",
   "metadata": {},
   "outputs": [],
   "source": [
    "chartName = \"images/chart-2.png\"\n",
    "\n",
    "plt.figure(figsize=(10, 6))\n",
    "plt.plot(performance_by_age[\"age\"], performance_by_age[\"win_rate\"], marker=\"o\")\n",
    "plt.xlabel(\"Age\")\n",
    "plt.ylabel(\"Win Rate\")\n",
    "plt.title(\"Performance by Age (Win Rate)\")\n",
    "plt.grid(True)\n",
    "plt.tight_layout()\n",
    "plt.savefig(chartName)\n",
    "plt.show()\n"
   ]
  },
  {
   "cell_type": "markdown",
   "id": "71f63e3f-59b7-4d56-9e44-3d632d9d425a",
   "metadata": {},
   "source": [
    "### Average career length"
   ]
  },
  {
   "cell_type": "code",
   "execution_count": null,
   "id": "67801fdf-24fe-44a2-bfa6-5b6533212c12",
   "metadata": {},
   "outputs": [],
   "source": [
    "df = raw_ufc_details.copy()"
   ]
  },
  {
   "cell_type": "code",
   "execution_count": null,
   "id": "9eba241f-43e4-49fb-aca4-1df3b9e7ebd5",
   "metadata": {},
   "outputs": [],
   "source": [
    "red_fighters = df[[\"r_id\", \"r_name\", \"date\"]].rename(columns={\n",
    "    \"r_id\": \"fighter_id\",\n",
    "    \"r_name\": \"fighter_name\"\n",
    "})\n",
    "\n",
    "blue_fighters = df[[\"b_id\", \"b_name\", \"date\"]].rename(columns={\n",
    "    \"b_id\": \"fighter_id\",\n",
    "    \"b_name\": \"fighter_name\"\n",
    "})\n",
    "\n",
    "all_fighters = pd.concat([red_fighters, blue_fighters], ignore_index=True)"
   ]
  },
  {
   "cell_type": "code",
   "execution_count": null,
   "id": "554a8203-1989-4fad-bcac-cb9f2c11462d",
   "metadata": {},
   "outputs": [],
   "source": [
    "career_dates = all_fighters.groupby(\"fighter_id\")[\"date\"].agg([\"min\", \"max\"]).reset_index()\n",
    "career_dates[\"career_length_days\"] = (career_dates[\"max\"] - career_dates[\"min\"]).dt.days\n",
    "career_dates[\"career_length_years\"] = career_dates[\"career_length_days\"] / 365"
   ]
  },
  {
   "cell_type": "code",
   "execution_count": null,
   "id": "e72c0287-3fff-4116-8471-c693f23624c1",
   "metadata": {},
   "outputs": [],
   "source": [
    "average_career_length_years = round(career_dates[\"career_length_years\"].mean(), 2)\n",
    "average_career_length_years"
   ]
  },
  {
   "cell_type": "markdown",
   "id": "7f60c9cb-11c9-445d-8db0-041a593c2dd5",
   "metadata": {},
   "source": [
    "# 2. Analytical & Comparative Reports\n",
    "\n",
    "> These go deeper and highlight analytical thinking, correlations, and behavior patterns."
   ]
  },
  {
   "cell_type": "markdown",
   "id": "dfee1c66-0393-4425-acfe-f57b238b5d95",
   "metadata": {},
   "source": [
    "## What Influences a Fight Outcome?"
   ]
  },
  {
   "cell_type": "code",
   "execution_count": null,
   "id": "65839489-71d1-497e-9b00-6009df42715c",
   "metadata": {},
   "outputs": [],
   "source": [
    "df_fight_outcome = raw_ufc_details.copy()"
   ]
  },
  {
   "cell_type": "markdown",
   "id": "c01ea49a-efe7-4bec-9c9d-81b24ceb5c6f",
   "metadata": {},
   "source": [
    "### Correlation between height/reach and win probability"
   ]
  },
  {
   "cell_type": "code",
   "execution_count": null,
   "id": "6c5ea939-283a-4b05-af04-460988bccb1d",
   "metadata": {},
   "outputs": [],
   "source": [
    "height_diff = df_fight_outcome[\"r_height\"] - df_fight_outcome[\"b_height\"]\n",
    "reach_diff = df_fight_outcome[\"r_reach\"] - df_fight_outcome[\"b_reach\"]\n",
    "is_red_win = df_fight_outcome[\"winner\"] == df_fight_outcome[\"r_name\"]"
   ]
  },
  {
   "cell_type": "code",
   "execution_count": null,
   "id": "37da5121-8ca2-4984-9e14-28972b3079f8",
   "metadata": {},
   "outputs": [],
   "source": [
    "df_corr = pd.DataFrame({\n",
    "    \"height_diff\": height_diff,\n",
    "    \"reach_diff\": reach_diff,\n",
    "    \"is_red_win\": is_red_win.astype(int)  # True/False -> 1/0\n",
    "})"
   ]
  },
  {
   "cell_type": "markdown",
   "id": "89a72cad-7765-4092-8895-8f0c3dad6f8f",
   "metadata": {},
   "source": [
    "#### Evaluate correlation"
   ]
  },
  {
   "cell_type": "code",
   "execution_count": null,
   "id": "d65974f7-7027-4ea3-a9aa-6d2fa5d4a45d",
   "metadata": {},
   "outputs": [],
   "source": [
    "correlation_matrix = df_corr.corr()\n",
    "\n",
    "correlation_matrix"
   ]
  },
  {
   "cell_type": "code",
   "execution_count": null,
   "id": "01ee5bd0-c4c0-4b26-b7fa-964c85069004",
   "metadata": {},
   "outputs": [],
   "source": [
    "corr_result = correlation_matrix[\"is_red_win\"].sort_values(ascending=False)"
   ]
  },
  {
   "cell_type": "code",
   "execution_count": null,
   "id": "844ab511-4fbc-4a8d-8182-893e09229cc6",
   "metadata": {},
   "outputs": [],
   "source": [
    "influences_fight_outcome = (\n",
    "    f\"Note: Based on the data, reach difference shows a correlation of {corr_result['reach_diff']:.3f} \"\n",
    "    f\"with winning probability, while height difference shows a correlation of {corr_result['height_diff']:.3f}. \"\n",
    "    \"This suggests that reach has a slightly higher influence on fight outcomes than height, although both \"\n",
    "    \"correlations are weak and should not be considered strong predictors.\"\n",
    ")\n",
    "\n",
    "print(influences_fight_outcome)"
   ]
  },
  {
   "cell_type": "markdown",
   "id": "87b473f1-6bff-4696-a963-65b2aa3dd3f0",
   "metadata": {},
   "source": [
    "### Does making weight increase win chances?"
   ]
  },
  {
   "cell_type": "markdown",
   "id": "b315dbac-d6b2-42f6-a3ec-e6605af0a0d8",
   "metadata": {},
   "source": [
    "> Fighters who cut weight correctly can have a psychological and physical advantage (even if temporary) over those who miss weight, or at least, they don't suffer the penalties."
   ]
  },
  {
   "cell_type": "markdown",
   "id": "5ea03729-94bc-4bd7-8c7e-08de2a522372",
   "metadata": {},
   "source": [
    "#### Divisions weight limits"
   ]
  },
  {
   "cell_type": "markdown",
   "id": "aac977ff-71a1-4e1e-b9bd-4b18ed7ada72",
   "metadata": {},
   "source": [
    "#### Creating divisions dictionary"
   ]
  },
  {
   "cell_type": "code",
   "execution_count": null,
   "id": "5b5f16ec-be38-4e87-a221-23688dc4d809",
   "metadata": {},
   "outputs": [],
   "source": [
    "divisions = list(df_fight_outcome[\"division\"].unique())\n",
    "\n",
    "# Initialy those are weights that I know so far\n",
    "\n",
    "# Weights in pounds\n",
    "\n",
    "weight_limits = {\n",
    "    \"flyweight\": 125,\n",
    "    \"bantamweight\": 135,\n",
    "    \"featherweight\": 145,\n",
    "    \"lightweight\": 155,\n",
    "    \"welterweight\": 170,\n",
    "    \"middleweight\": 185,\n",
    "    \"light heavyweight\": 205,\n",
    "    \"heavyweight\": 265\n",
    "}\n",
    "\n",
    "known_divisions = list(weight_limits.keys())\n",
    "for division in divisions:\n",
    "    for kd in known_divisions:\n",
    "        if kd in division.lower():\n",
    "            weight_limits[division] = weight_limits[kd]\n",
    "            break\n",
    "\n",
    "df_fight_outcome[\"division_limit\"] = df_fight_outcome[\"division\"].map(weight_limits)"
   ]
  },
  {
   "cell_type": "markdown",
   "id": "ca39c400-3a9d-41a9-8064-dd772f3c3d9c",
   "metadata": {},
   "source": [
    "#### Filtering divisions with limit"
   ]
  },
  {
   "cell_type": "code",
   "execution_count": null,
   "id": "1500af38-26b3-415f-8bde-9cb4aa34309c",
   "metadata": {},
   "outputs": [],
   "source": [
    "df_fight_outcome = df_fight_outcome[df_fight_outcome[\"division_limit\"].notna()]"
   ]
  },
  {
   "cell_type": "markdown",
   "id": "dcdc4640-f083-45d8-9059-bf0232c27a5b",
   "metadata": {},
   "source": [
    "#### Does the fighter made the weight?"
   ]
  },
  {
   "cell_type": "code",
   "execution_count": null,
   "id": "f4f16c18-b633-46b7-a21a-5466fe5ebfed",
   "metadata": {},
   "outputs": [],
   "source": [
    "# Select relevant columns for fighters in the red corner,\n",
    "# renaming columns to generic fighter-related names\n",
    "red_df = df_fight_outcome[[\n",
    "     \"division_limit\", \"r_name\", \"r_weight\", \"winner\"\n",
    "]].rename(columns={\n",
    "    \"r_name\": \"fighter_name\",        # rename red fighter's name to \"fighter_name\"\n",
    "    \"r_weight\": \"fighter_weight\"     # rename red fighter's weight to \"fighter_weight\"\n",
    "})\n",
    "\n",
    "# Create a new boolean column \"won\" that indicates if the red fighter won the fight\n",
    "red_df[\"won\"] = red_df[\"winner\"] == red_df[\"fighter_name\"]\n",
    "\n",
    "\n",
    "# Repeat the same process for fighters in the blue corner:\n",
    "# select relevant columns and rename them to generic fighter names\n",
    "blue_df = df_fight_outcome[[\n",
    "     \"division_limit\", \"b_name\", \"b_weight\", \"winner\"\n",
    "]].rename(columns={\n",
    "    \"b_name\": \"fighter_name\",        # rename blue fighter's name to \"fighter_name\"\n",
    "    \"b_weight\": \"fighter_weight\"     # rename blue fighter's weight to \"fighter_weight\"\n",
    "})\n",
    "\n",
    "# Create boolean column \"won\" indicating if the blue fighter won\n",
    "blue_df[\"won\"] = blue_df[\"winner\"] == blue_df[\"fighter_name\"]\n",
    "\n",
    "\n",
    "# Concatenate both dataframes (red_df and blue_df) by stacking rows,\n",
    "# resulting in a dataframe with all fighters regardless of corner (red or blue)\n",
    "full_df = pd.concat([red_df, blue_df], ignore_index=True)\n",
    "\n",
    "\n",
    "# Create a new boolean column \"made_weight\" that checks if the fighter made weight,\n",
    "# comparing the fighter's weight to the division weight limit\n",
    "full_df[\"made_weight\"] = full_df[\"fighter_weight\"] <= full_df[\"division_limit\"]\n",
    "\n",
    "\n",
    "# Group the dataframe by \"made_weight\" (True/False),\n",
    "# and calculate the mean of the \"won\" column for each group.\n",
    "# Since \"won\" is boolean (True=1, False=0), the mean represents the win rate per group.\n",
    "win_rate_by_weight = (\n",
    "    full_df\n",
    "    .groupby(\"made_weight\")[\"won\"]\n",
    "    .mean()\n",
    "    .reset_index()\n",
    ")\n",
    "type(win_rate_by_weight)\n",
    "# made_weight_stats = win_rate_by_weight.to_dict(orient=\"records\")\n",
    "# Print the final result: win rates grouped by whether fighters made weight or not\n",
    "print(win_rate_by_weight)\n"
   ]
  },
  {
   "cell_type": "markdown",
   "id": "64ee040b-132b-4b6b-a0bc-3227f24cbd8a",
   "metadata": {},
   "source": [
    "### Do fighters coming off a win have a higher chance of winning again?"
   ]
  },
  {
   "cell_type": "code",
   "execution_count": null,
   "id": "eca948e3-1f59-40ce-969b-bd0efabbfb71",
   "metadata": {},
   "outputs": [],
   "source": [
    "df_fight_outcome = raw_ufc_details.copy()"
   ]
  },
  {
   "cell_type": "markdown",
   "id": "4a498bb0-355b-42a6-8500-b0305601b51e",
   "metadata": {},
   "source": [
    "#### Creating full version of data frame"
   ]
  },
  {
   "cell_type": "code",
   "execution_count": null,
   "id": "74cfe50e-c9bd-4182-b523-87fd7d72d8c4",
   "metadata": {},
   "outputs": [],
   "source": [
    "# Select relevant columns for fighters in the red corner,\n",
    "# renaming columns to generic fighter-related names\n",
    "red_df = df_fight_outcome[[\n",
    "    \"date\", \"r_name\", \"winner\"\n",
    "]].rename(columns={\n",
    "    \"r_name\": \"fighter_name\",        # rename red fighter's name to \"fighter_name\"\n",
    "})\n",
    "\n",
    "# Create a new boolean column \"won\" that indicates if the red fighter won the fight\n",
    "red_df[\"won\"] = red_df[\"winner\"] == red_df[\"fighter_name\"]\n",
    "\n",
    "\n",
    "# Repeat the same process for fighters in the blue corner:\n",
    "# select relevant columns and rename them to generic fighter names\n",
    "blue_df = df_fight_outcome[[\n",
    "    \"date\", \"b_name\", \"winner\"\n",
    "]].rename(columns={\n",
    "    \"b_name\": \"fighter_name\",        # rename blue fighter's name to \"fighter_name\"\n",
    "})\n",
    "\n",
    "# Create boolean column \"won\" indicating if the blue fighter won\n",
    "blue_df[\"won\"] = blue_df[\"winner\"] == blue_df[\"fighter_name\"]\n",
    "\n",
    "# Concatenate both dataframes (red_df and blue_df) by stacking rows,\n",
    "# resulting in a dataframe with all fighters regardless of corner (red or blue)\n",
    "full_df = pd.concat([red_df, blue_df], ignore_index=True)"
   ]
  },
  {
   "cell_type": "markdown",
   "id": "c5acc222-2933-4eda-8638-df500e614f85",
   "metadata": {},
   "source": [
    "#### Creating the won_previous information"
   ]
  },
  {
   "cell_type": "code",
   "execution_count": null,
   "id": "5be198eb-400e-4197-8ae3-97d693517c80",
   "metadata": {},
   "outputs": [],
   "source": [
    "# 1. Sort the full_df dataframe by fighter and fight date (in ascending order)\n",
    "full_df = full_df.sort_values(by=[\"fighter_name\", \"date\"])\n",
    "\n",
    "# 2. Create the column won previous, which takes the value of the 'won' column from the previous fight for the same fighter\n",
    "full_df[\"won_previous\"] = full_df.groupby(\"fighter_name\")[\"won\"].shift(1)\n",
    "\n",
    "# 3. Since a fighter's first fight has no previous fight, the value will be NaN, so I set it to false instead.\n",
    "full_df[\"won_previous\"] = full_df[\"won_previous\"].astype(\"boolean\").fillna(False)"
   ]
  },
  {
   "cell_type": "markdown",
   "id": "af967587-c481-4a76-baba-9a7088f64e25",
   "metadata": {},
   "source": [
    "#### Evaluating the won_previous rate"
   ]
  },
  {
   "cell_type": "code",
   "execution_count": null,
   "id": "4787f3bb-1e1c-4118-9192-912ad33bd390",
   "metadata": {},
   "outputs": [],
   "source": [
    "win_rate_after_win = full_df[full_df[\"won_previous\"] == True][\"won\"].mean()\n",
    "win_rate_after_loss = full_df[full_df[\"won_previous\"] == False][\"won\"].mean()\n",
    "\n",
    "print(f\"Win rate after winning previous fight: {win_rate_after_win:.2%}\")\n",
    "print(f\"Win rate after losing previous fight: {win_rate_after_loss:.2%}\")"
   ]
  },
  {
   "cell_type": "markdown",
   "id": "90f3ab54-c8db-4c51-9934-bc6c1294f711",
   "metadata": {},
   "source": [
    "## Rivalries & Rematches"
   ]
  },
  {
   "cell_type": "code",
   "execution_count": null,
   "id": "3ed95462-890d-451a-bdda-b1f0ab4077f4",
   "metadata": {},
   "outputs": [],
   "source": [
    "df_rivalries_and_rematches = raw_ufc_details.copy()"
   ]
  },
  {
   "cell_type": "markdown",
   "id": "1f9f09e5-ede3-4aae-8286-583a3ed7a5a4",
   "metadata": {},
   "source": [
    "### Timeline of fights between the same opponents\n",
    "> For the sake of simplicity I got the 5 fight matches with the most rematches"
   ]
  },
  {
   "cell_type": "code",
   "execution_count": null,
   "id": "6b0378c3-2fd3-4111-bbb3-c90d9894e542",
   "metadata": {
    "scrolled": true
   },
   "outputs": [],
   "source": [
    "\n",
    "# Step 1: Create unique key for each pair of opponents\n",
    "# Using IDs because they are more consistent than names (names may change or be spelled differently)\n",
    "df_rivalries_and_rematches[\"pair_key\"] = df_rivalries_and_rematches.apply(\n",
    "    lambda x: tuple(sorted([x[\"r_id\"], x[\"b_id\"]])),\n",
    "    axis=1\n",
    ")\n",
    "\n",
    "# Step 2: Counting fights between pairs\n",
    "pair_counts = (\n",
    "    df_rivalries_and_rematches.groupby(\"pair_key\")[\"fight_id\"]\n",
    "        .count()\n",
    "        .reset_index(name=\"num_fights\")\n",
    ")\n",
    "\n",
    "# Step 3: Select the 5 pairs with the most number of rematches\n",
    "top_5_pairs = pair_counts.sort_values(\"num_fights\", ascending=False).head(5)[\"pair_key\"]\n",
    "\n",
    "# Step 4: Filter only those rivalries\n",
    "df_top_rivalries = df_rivalries_and_rematches[df_rivalries_and_rematches[\"pair_key\"].isin(top_5_pairs)].copy()\n",
    "\n",
    "# Step 5: Sort chronologically\n",
    "df_top_rivalries[\"date\"] = pd.to_datetime(df_top_rivalries[\"date\"])\n",
    "df_top_rivalries = df_top_rivalries.sort_values([\"pair_key\", \"date\"])\n",
    "\n",
    "# Step 6: Create a \"fight #\" identifier within the rivalry\n",
    "df_top_rivalries[\"fight_number\"] = df_top_rivalries.groupby(\"pair_key\").cumcount() + 1\n",
    "\n",
    "# Step 7: Organize columns for visualization\n",
    "\n",
    "timeline_cols = [\n",
    "    \"pair_key\", \"fight_number\", \"date\", \"event_name\",\n",
    "    \"r_name\", \"b_name\", \"winner\", \"method\"\n",
    "]\n",
    "\n",
    "timeline_df = df_top_rivalries[timeline_cols]\n",
    "\n",
    "timeline_df"
   ]
  },
  {
   "cell_type": "markdown",
   "id": "d50c9c6b-e743-47f3-8202-2bece32fa387",
   "metadata": {},
   "source": [
    "### Performance evolution across trilogies"
   ]
  },
  {
   "cell_type": "code",
   "execution_count": null,
   "id": "a9801774-f0dc-4282-a85a-20b9f118be8d",
   "metadata": {},
   "outputs": [],
   "source": [
    "df_performance_evo_across_trilogies = raw_ufc_details.copy()"
   ]
  },
  {
   "cell_type": "markdown",
   "id": "d91a8a22-83e0-43cc-aa2c-e7922d311d4c",
   "metadata": {},
   "source": [
    "#### Create a column with a unique identifier for the pair of fighters"
   ]
  },
  {
   "cell_type": "code",
   "execution_count": null,
   "id": "df7820a2-b0b7-429c-8fc8-37c2e849a2b6",
   "metadata": {},
   "outputs": [],
   "source": [
    "# Create column with ordered names to identify the fight pair\n",
    "df_performance_evo_across_trilogies[\"fighter_pair\"] = df_performance_evo_across_trilogies.apply(\n",
    "    lambda row: tuple(sorted([row[\"r_id\"], row[\"b_id\"]])),\n",
    "    axis=1\n",
    ")"
   ]
  },
  {
   "cell_type": "markdown",
   "id": "9c328cde-cfda-46e8-a1d9-4ec9861e253c",
   "metadata": {},
   "source": [
    "#### Filter pairs that have fought 3 or more times (trilogies or more)"
   ]
  },
  {
   "cell_type": "code",
   "execution_count": null,
   "id": "1f7d793b-d39e-465c-8522-b575cacfe59c",
   "metadata": {},
   "outputs": [],
   "source": [
    "# Count how many fights each pair had\n",
    "pair_counts = df_performance_evo_across_trilogies[\"fighter_pair\"].value_counts()\n",
    "\n",
    "# Filter only pairs with 3 or more fights\n",
    "trilogies_pairs = pair_counts[pair_counts >= 3].index.tolist()\n",
    "\n",
    "# Filter original dataframe to keep only these fights\n",
    "df_trilogies = df_performance_evo_across_trilogies[\n",
    "    df_performance_evo_across_trilogies[\"fighter_pair\"].isin(trilogies_pairs)\n",
    "].copy()"
   ]
  },
  {
   "cell_type": "markdown",
   "id": "a7bc6df5-68ae-4370-85f3-4243390967fe",
   "metadata": {},
   "source": [
    "#### Sort by date to analyze chronological evolution"
   ]
  },
  {
   "cell_type": "code",
   "execution_count": null,
   "id": "82da6fc5-9e43-4cfd-bfa0-e3135047fa79",
   "metadata": {},
   "outputs": [],
   "source": [
    "df_trilogies = df_trilogies.sort_values(by=[\"fighter_pair\", \"date\"])"
   ]
  },
  {
   "cell_type": "markdown",
   "id": "36f3904f-ca35-4bf6-bcc5-9a1e74281399",
   "metadata": {},
   "source": [
    "#### For each fight, identify the winner and create simple metrics for performance\n",
    "\n",
    "* Who won\n",
    "* Fight number of the trilogy (1, 2, 3, ...)\n",
    "* Important statistics (e.g., significant strikes, takedowns, control)"
   ]
  },
  {
   "cell_type": "code",
   "execution_count": null,
   "id": "f0d4b695-b858-4a6c-996c-cf944c30beb2",
   "metadata": {},
   "outputs": [],
   "source": [
    "df_trilogies[\"match_number\"] = df_trilogies.groupby(\"fighter_pair\").cumcount() + 1\n",
    "\n",
    "imp_stats_colums = [\n",
    "    \"fighter_pair\",\n",
    "    \"date\",\n",
    "    \"match_number\",\n",
    "    \"winner_id\",\n",
    "    \"r_id\",\n",
    "    \"b_id\",\n",
    "    \"r_name\",\n",
    "    \"b_name\",\n",
    "    \"r_total_str_landed\",\n",
    "    \"b_total_str_landed\",\n",
    "    \"r_td_landed\",\n",
    "    \"b_td_landed\",\n",
    "    \"r_ctrl\",\n",
    "    \"b_ctrl\"\n",
    "]\n",
    "\n",
    "imp_stats_df = df_trilogies[imp_stats_colums]\n",
    "\n",
    "imp_stats_df[\"strikes_diff\"] = abs(imp_stats_df[\"r_total_str_landed\"] - imp_stats_df[\"b_total_str_landed\"])\n",
    "imp_stats_df[\"td_diff\"] = abs(imp_stats_df[\"r_td_landed\"] - imp_stats_df[\"b_td_landed\"])\n",
    "imp_stats_df[\"ctrl_diff\"] = abs(imp_stats_df[\"r_ctrl\"] - imp_stats_df[\"b_ctrl\"])\n"
   ]
  },
  {
   "cell_type": "code",
   "execution_count": null,
   "id": "4fcb3f43-a83b-478c-a1d0-21c2e6435a12",
   "metadata": {},
   "outputs": [],
   "source": [
    "imp_stats_df"
   ]
  },
  {
   "cell_type": "markdown",
   "id": "2b2a6861-e563-44a7-86bd-812e6a6806fa",
   "metadata": {},
   "source": [
    "### Who tends to improve in rematches?"
   ]
  },
  {
   "cell_type": "code",
   "execution_count": null,
   "id": "b2b478de-c924-4e05-b79e-373963a81943",
   "metadata": {},
   "outputs": [],
   "source": [
    "df_improve_in_rematches = raw_ufc_details.copy()\n",
    "\n",
    "# 1. Create a unique identifier for each pair of fighters in a consistent order\n",
    "# so that \"Fighter A vs Fighter B\" and \"Fighter B vs Fighter A\" are treated the same.\n",
    "\n",
    "df_improve_in_rematches[\"fighter_pair\"] = df_improve_in_rematches.apply(\n",
    "    lambda row: tuple(sorted([row[\"r_id\"], row[\"b_id\"]])),\n",
    "    axis=1\n",
    ")\n",
    "\n",
    "# 2. Filter pairs with more than one fight (rematches)\n",
    "pair_counts = df_improve_in_rematches['fighter_pair'].value_counts()\n",
    "rematch_pairs = pair_counts[pair_counts > 1].index.tolist()\n",
    "rematches_df = df_improve_in_rematches[df_improve_in_rematches['fighter_pair'].isin(rematch_pairs)].copy()\n",
    "\n",
    "# 3. Sort fights by date within each pair\n",
    "rematches_df.sort_values(by=['fighter_pair', 'date'], inplace=True)\n",
    "\n",
    "# 4. Assign a fight number (1st fight, 2nd fight, etc) within each pair\n",
    "rematches_df['fight_number'] = rematches_df.groupby('fighter_pair').cumcount() + 1\n",
    "\n",
    "# 5. Select important stats for comparison (example: total strikes landed)\n",
    "stats_cols = ['r_total_str_landed', 'b_total_str_landed', 'r_td_landed', 'b_td_landed', 'r_ctrl', 'b_ctrl']\n",
    "\n",
    "# 6. For each rematch pair, compare stats of fight 1 vs fight 2\n",
    "# Example: calculate difference in strikes landed by red fighter between fight 2 and fight 1\n",
    "# You'll want to pivot or reshape the data for easy comparison\n",
    "\n",
    "# Pivot to have fights as columns\n",
    "pivot_cols = ['date', 'winner', 'r_name', 'b_name'] + stats_cols\n",
    "pivot_df = rematches_df[pivot_cols + ['fighter_pair', 'fight_number']]\n",
    "\n",
    "# Create separate dataframes for fight 1 and fight 2\n",
    "fight1 = pivot_df[pivot_df['fight_number'] == 1].set_index('fighter_pair')\n",
    "fight2 = pivot_df[pivot_df['fight_number'] == 2].set_index('fighter_pair')\n",
    "\n",
    "# Example: calculate improvement in red corner strikes landed from fight 1 to fight 2\n",
    "improvement_df = fight2[['r_total_str_landed']].copy()\n",
    "improvement_df['r_strikes_improvement'] = fight2['r_total_str_landed'] - fight1['r_total_str_landed']\n",
    "\n",
    "improvement_df"
   ]
  },
  {
   "cell_type": "markdown",
   "id": "c5680254-921e-432d-b419-6cfdbe4d1c20",
   "metadata": {},
   "source": [
    "## Generate HTML with reports"
   ]
  },
  {
   "cell_type": "code",
   "execution_count": null,
   "id": "5a939f64-da9a-4b95-9efa-e68c9a6f159a",
   "metadata": {},
   "outputs": [],
   "source": [
    "def generate_ufc_report_html(output_file=\"ufc_report.html\"):\n",
    "    env = Environment(loader=FileSystemLoader(\"./templates\"))\n",
    "    template = env.get_template(\"ufc_report.html\")\n",
    "\n",
    "    html = template.render(\n",
    "        title=\"UFC Analysis Report\",\n",
    "        ufc_logo_url= \"./images/UFC_Logo.png\",\n",
    "        kaggle_link = \"https://www.kaggle.com/datasets/neelagiriaditya/ufc-datasets-1994-2025/data\",\n",
    "        github_link = \"https://github.com/joaogouveia89/ufc-data-study-case\",\n",
    "        countries = countries_report,\n",
    "        cities = cities_report,\n",
    "        dist_fights_per_weight_chart = dist_fights_per_weight_chart_data,\n",
    "        ko_submission_decision_methods_chart = ko_submission_decision_methods_json,\n",
    "        ko_submission_decision_methods_props = ko_submission_decision_methods_props,\n",
    "        duration_by_weight_class = duration_by_weight_class,\n",
    "        top_strike_fights = top_strike_fights,\n",
    "        top_10_fighters_with_the_most_wins = top_10_fighters_with_the_most_wins_dict,\n",
    "        top_10_fighters_with_the_most_ko_rate = ko_rate_df_dict,\n",
    "        average_career_length_years = average_career_length_years,\n",
    "        influences_fight_outcome = influences_fight_outcome,\n",
    "        made_weight_stats = made_weight_stats,\n",
    "        processed_date=human_readable_date(datetime.today()),\n",
    "    )\n",
    "\n",
    "    with open(output_file, \"w\", encoding=\"utf-8\") as f:\n",
    "        f.write(html)\n",
    "\n",
    "    print(f\"Saved on {output_file}\")\n",
    "\n",
    "generate_ufc_report_html()"
   ]
  }
 ],
 "metadata": {
  "kernelspec": {
   "display_name": "Python [conda env:UFCCaseStudyEnv]",
   "language": "python",
   "name": "conda-env-UFCCaseStudyEnv-py"
  },
  "language_info": {
   "codemirror_mode": {
    "name": "ipython",
    "version": 3
   },
   "file_extension": ".py",
   "mimetype": "text/x-python",
   "name": "python",
   "nbconvert_exporter": "python",
   "pygments_lexer": "ipython3",
   "version": "3.12.11"
  }
 },
 "nbformat": 4,
 "nbformat_minor": 5
}
